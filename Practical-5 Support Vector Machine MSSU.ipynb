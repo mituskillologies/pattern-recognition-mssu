{
 "cells": [
  {
   "cell_type": "code",
   "execution_count": 1,
   "id": "af6dc2b4",
   "metadata": {},
   "outputs": [],
   "source": [
    "# Dataset: letterdata.csv\n",
    "# Location: https://mitu.co.in/dataset"
   ]
  },
  {
   "cell_type": "markdown",
   "id": "ecbd9b58",
   "metadata": {},
   "source": [
    "### Import all necessary libraries"
   ]
  },
  {
   "cell_type": "code",
   "execution_count": 2,
   "id": "e87b887d",
   "metadata": {},
   "outputs": [],
   "source": [
    "import pandas as pd\n",
    "import numpy as np\n",
    "import matplotlib.pyplot as plt\n",
    "import seaborn as sns"
   ]
  },
  {
   "cell_type": "markdown",
   "id": "4f5c78c6",
   "metadata": {},
   "source": [
    "### Import the dataset"
   ]
  },
  {
   "cell_type": "code",
   "execution_count": 3,
   "id": "690216fb",
   "metadata": {},
   "outputs": [],
   "source": [
    "df = pd.read_csv('letterdata.csv')"
   ]
  },
  {
   "cell_type": "code",
   "execution_count": 4,
   "id": "0f96236f",
   "metadata": {},
   "outputs": [
    {
     "data": {
      "text/plain": [
       "(20000, 17)"
      ]
     },
     "execution_count": 4,
     "metadata": {},
     "output_type": "execute_result"
    }
   ],
   "source": [
    "df.shape"
   ]
  },
  {
   "cell_type": "code",
   "execution_count": 5,
   "id": "a29b8e19",
   "metadata": {},
   "outputs": [
    {
     "data": {
      "text/plain": [
       "Index(['letter', 'xbox', 'ybox', 'width', 'height', 'onpix', 'xbar', 'ybar',\n",
       "       'x2bar', 'y2bar', 'xybar', 'x2ybar', 'xy2bar', 'xedge', 'xedgey',\n",
       "       'yedge', 'yedgex'],\n",
       "      dtype='object')"
      ]
     },
     "execution_count": 5,
     "metadata": {},
     "output_type": "execute_result"
    }
   ],
   "source": [
    "df.columns"
   ]
  },
  {
   "cell_type": "code",
   "execution_count": 6,
   "id": "6738fcee",
   "metadata": {},
   "outputs": [
    {
     "data": {
      "text/plain": [
       "letter    0\n",
       "xbox      0\n",
       "ybox      0\n",
       "width     0\n",
       "height    0\n",
       "onpix     0\n",
       "xbar      0\n",
       "ybar      0\n",
       "x2bar     0\n",
       "y2bar     0\n",
       "xybar     0\n",
       "x2ybar    0\n",
       "xy2bar    0\n",
       "xedge     0\n",
       "xedgey    0\n",
       "yedge     0\n",
       "yedgex    0\n",
       "dtype: int64"
      ]
     },
     "execution_count": 6,
     "metadata": {},
     "output_type": "execute_result"
    }
   ],
   "source": [
    "df.isnull().sum()"
   ]
  },
  {
   "cell_type": "code",
   "execution_count": 7,
   "id": "28e833c3",
   "metadata": {},
   "outputs": [
    {
     "data": {
      "text/plain": [
       "letter    A\n",
       "xbox      0\n",
       "ybox      0\n",
       "width     0\n",
       "height    0\n",
       "onpix     0\n",
       "xbar      0\n",
       "ybar      0\n",
       "x2bar     0\n",
       "y2bar     0\n",
       "xybar     0\n",
       "x2ybar    0\n",
       "xy2bar    0\n",
       "xedge     0\n",
       "xedgey    0\n",
       "yedge     0\n",
       "yedgex    0\n",
       "dtype: object"
      ]
     },
     "execution_count": 7,
     "metadata": {},
     "output_type": "execute_result"
    }
   ],
   "source": [
    "df.min()"
   ]
  },
  {
   "cell_type": "code",
   "execution_count": 8,
   "id": "dc5e2cd9",
   "metadata": {},
   "outputs": [
    {
     "data": {
      "text/plain": [
       "letter     Z\n",
       "xbox      15\n",
       "ybox      15\n",
       "width     15\n",
       "height    15\n",
       "onpix     15\n",
       "xbar      15\n",
       "ybar      15\n",
       "x2bar     15\n",
       "y2bar     15\n",
       "xybar     15\n",
       "x2ybar    15\n",
       "xy2bar    15\n",
       "xedge     15\n",
       "xedgey    15\n",
       "yedge     15\n",
       "yedgex    15\n",
       "dtype: object"
      ]
     },
     "execution_count": 8,
     "metadata": {},
     "output_type": "execute_result"
    }
   ],
   "source": [
    "df.max()"
   ]
  },
  {
   "cell_type": "markdown",
   "id": "99b3a7f3",
   "metadata": {},
   "source": [
    "### Separate the input and output data"
   ]
  },
  {
   "cell_type": "code",
   "execution_count": 9,
   "id": "c04ea89f",
   "metadata": {},
   "outputs": [],
   "source": [
    "# input data\n",
    "x = df.drop('letter', axis = 1)\n",
    "\n",
    "# output data\n",
    "y = df['letter']"
   ]
  },
  {
   "cell_type": "code",
   "execution_count": 10,
   "id": "09adc3d1",
   "metadata": {},
   "outputs": [
    {
     "data": {
      "text/html": [
       "<div>\n",
       "<style scoped>\n",
       "    .dataframe tbody tr th:only-of-type {\n",
       "        vertical-align: middle;\n",
       "    }\n",
       "\n",
       "    .dataframe tbody tr th {\n",
       "        vertical-align: top;\n",
       "    }\n",
       "\n",
       "    .dataframe thead th {\n",
       "        text-align: right;\n",
       "    }\n",
       "</style>\n",
       "<table border=\"1\" class=\"dataframe\">\n",
       "  <thead>\n",
       "    <tr style=\"text-align: right;\">\n",
       "      <th></th>\n",
       "      <th>xbox</th>\n",
       "      <th>ybox</th>\n",
       "      <th>width</th>\n",
       "      <th>height</th>\n",
       "      <th>onpix</th>\n",
       "      <th>xbar</th>\n",
       "      <th>ybar</th>\n",
       "      <th>x2bar</th>\n",
       "      <th>y2bar</th>\n",
       "      <th>xybar</th>\n",
       "      <th>x2ybar</th>\n",
       "      <th>xy2bar</th>\n",
       "      <th>xedge</th>\n",
       "      <th>xedgey</th>\n",
       "      <th>yedge</th>\n",
       "      <th>yedgex</th>\n",
       "    </tr>\n",
       "  </thead>\n",
       "  <tbody>\n",
       "    <tr>\n",
       "      <th>0</th>\n",
       "      <td>2</td>\n",
       "      <td>8</td>\n",
       "      <td>3</td>\n",
       "      <td>5</td>\n",
       "      <td>1</td>\n",
       "      <td>8</td>\n",
       "      <td>13</td>\n",
       "      <td>0</td>\n",
       "      <td>6</td>\n",
       "      <td>6</td>\n",
       "      <td>10</td>\n",
       "      <td>8</td>\n",
       "      <td>0</td>\n",
       "      <td>8</td>\n",
       "      <td>0</td>\n",
       "      <td>8</td>\n",
       "    </tr>\n",
       "    <tr>\n",
       "      <th>1</th>\n",
       "      <td>5</td>\n",
       "      <td>12</td>\n",
       "      <td>3</td>\n",
       "      <td>7</td>\n",
       "      <td>2</td>\n",
       "      <td>10</td>\n",
       "      <td>5</td>\n",
       "      <td>5</td>\n",
       "      <td>4</td>\n",
       "      <td>13</td>\n",
       "      <td>3</td>\n",
       "      <td>9</td>\n",
       "      <td>2</td>\n",
       "      <td>8</td>\n",
       "      <td>4</td>\n",
       "      <td>10</td>\n",
       "    </tr>\n",
       "    <tr>\n",
       "      <th>2</th>\n",
       "      <td>4</td>\n",
       "      <td>11</td>\n",
       "      <td>6</td>\n",
       "      <td>8</td>\n",
       "      <td>6</td>\n",
       "      <td>10</td>\n",
       "      <td>6</td>\n",
       "      <td>2</td>\n",
       "      <td>6</td>\n",
       "      <td>10</td>\n",
       "      <td>3</td>\n",
       "      <td>7</td>\n",
       "      <td>3</td>\n",
       "      <td>7</td>\n",
       "      <td>3</td>\n",
       "      <td>9</td>\n",
       "    </tr>\n",
       "    <tr>\n",
       "      <th>3</th>\n",
       "      <td>7</td>\n",
       "      <td>11</td>\n",
       "      <td>6</td>\n",
       "      <td>6</td>\n",
       "      <td>3</td>\n",
       "      <td>5</td>\n",
       "      <td>9</td>\n",
       "      <td>4</td>\n",
       "      <td>6</td>\n",
       "      <td>4</td>\n",
       "      <td>4</td>\n",
       "      <td>10</td>\n",
       "      <td>6</td>\n",
       "      <td>10</td>\n",
       "      <td>2</td>\n",
       "      <td>8</td>\n",
       "    </tr>\n",
       "    <tr>\n",
       "      <th>4</th>\n",
       "      <td>2</td>\n",
       "      <td>1</td>\n",
       "      <td>3</td>\n",
       "      <td>1</td>\n",
       "      <td>1</td>\n",
       "      <td>8</td>\n",
       "      <td>6</td>\n",
       "      <td>6</td>\n",
       "      <td>6</td>\n",
       "      <td>6</td>\n",
       "      <td>5</td>\n",
       "      <td>9</td>\n",
       "      <td>1</td>\n",
       "      <td>7</td>\n",
       "      <td>5</td>\n",
       "      <td>10</td>\n",
       "    </tr>\n",
       "  </tbody>\n",
       "</table>\n",
       "</div>"
      ],
      "text/plain": [
       "   xbox  ybox  width  height  onpix  xbar  ybar  x2bar  y2bar  xybar  x2ybar  \\\n",
       "0     2     8      3       5      1     8    13      0      6      6      10   \n",
       "1     5    12      3       7      2    10     5      5      4     13       3   \n",
       "2     4    11      6       8      6    10     6      2      6     10       3   \n",
       "3     7    11      6       6      3     5     9      4      6      4       4   \n",
       "4     2     1      3       1      1     8     6      6      6      6       5   \n",
       "\n",
       "   xy2bar  xedge  xedgey  yedge  yedgex  \n",
       "0       8      0       8      0       8  \n",
       "1       9      2       8      4      10  \n",
       "2       7      3       7      3       9  \n",
       "3      10      6      10      2       8  \n",
       "4       9      1       7      5      10  "
      ]
     },
     "execution_count": 10,
     "metadata": {},
     "output_type": "execute_result"
    }
   ],
   "source": [
    "x.head()"
   ]
  },
  {
   "cell_type": "markdown",
   "id": "566f91c5",
   "metadata": {},
   "source": [
    "### Jointplot "
   ]
  },
  {
   "cell_type": "code",
   "execution_count": 11,
   "id": "7d81b952",
   "metadata": {},
   "outputs": [
    {
     "data": {
      "text/plain": [
       "letter    object\n",
       "xbox       int64\n",
       "ybox       int64\n",
       "width      int64\n",
       "height     int64\n",
       "onpix      int64\n",
       "xbar       int64\n",
       "ybar       int64\n",
       "x2bar      int64\n",
       "y2bar      int64\n",
       "xybar      int64\n",
       "x2ybar     int64\n",
       "xy2bar     int64\n",
       "xedge      int64\n",
       "xedgey     int64\n",
       "yedge      int64\n",
       "yedgex     int64\n",
       "dtype: object"
      ]
     },
     "execution_count": 11,
     "metadata": {},
     "output_type": "execute_result"
    }
   ],
   "source": [
    "df.dtypes"
   ]
  },
  {
   "cell_type": "code",
   "execution_count": 12,
   "id": "7554ecd1",
   "metadata": {},
   "outputs": [
    {
     "data": {
      "text/plain": [
       "<matplotlib.collections.PathCollection at 0x7f0b2f5d7fa0>"
      ]
     },
     "execution_count": 12,
     "metadata": {},
     "output_type": "execute_result"
    },
    {
     "data": {
      "image/png": "[encoded data removed]",
      "text/plain": [
       "<Figure size 432x288 with 1 Axes>"
      ]
     },
     "metadata": {
      "needs_background": "light"
     },
     "output_type": "display_data"
    }
   ],
   "source": [
    "plt.scatter(df['xedge'], df['yedge'])"
   ]
  },
  {
   "cell_type": "code",
   "execution_count": 13,
   "id": "6aafe399",
   "metadata": {},
   "outputs": [
    {
     "data": {
      "text/plain": [
       "<seaborn.axisgrid.JointGrid at 0x7f0b2d595e80>"
      ]
     },
     "execution_count": 13,
     "metadata": {},
     "output_type": "execute_result"
    },
    {
     "data": {
      "image/png": "[encoded data removed]",
      "text/plain": [
       "<Figure size 432x432 with 3 Axes>"
      ]
     },
     "metadata": {
      "needs_background": "light"
     },
     "output_type": "display_data"
    }
   ],
   "source": [
    "sns.jointplot(x='xedge', y='yedge', data=df, hue='letter')"
   ]
  },
  {
   "cell_type": "code",
   "execution_count": 14,
   "id": "dca7d5b2",
   "metadata": {},
   "outputs": [],
   "source": [
    "# countplot"
   ]
  },
  {
   "cell_type": "code",
   "execution_count": 15,
   "id": "a62849d4",
   "metadata": {},
   "outputs": [
    {
     "data": {
      "image/png": "[encoded data removed]",
      "text/plain": [
       "<Figure size 432x288 with 1 Axes>"
      ]
     },
     "metadata": {
      "needs_background": "light"
     },
     "output_type": "display_data"
    }
   ],
   "source": [
    "sns.countplot(x=y);"
   ]
  },
  {
   "cell_type": "code",
   "execution_count": 16,
   "id": "7bfd1bc6",
   "metadata": {},
   "outputs": [
    {
     "data": {
      "text/plain": [
       "U    813\n",
       "D    805\n",
       "P    803\n",
       "T    796\n",
       "M    792\n",
       "A    789\n",
       "X    787\n",
       "Y    786\n",
       "Q    783\n",
       "N    783\n",
       "F    775\n",
       "G    773\n",
       "E    768\n",
       "B    766\n",
       "V    764\n",
       "L    761\n",
       "R    758\n",
       "I    755\n",
       "O    753\n",
       "W    752\n",
       "S    748\n",
       "J    747\n",
       "K    739\n",
       "C    736\n",
       "H    734\n",
       "Z    734\n",
       "Name: letter, dtype: int64"
      ]
     },
     "execution_count": 16,
     "metadata": {},
     "output_type": "execute_result"
    }
   ],
   "source": [
    "y.value_counts()"
   ]
  },
  {
   "cell_type": "code",
   "execution_count": 17,
   "id": "183ab92d",
   "metadata": {},
   "outputs": [
    {
     "data": {
      "text/plain": [
       "{'A',\n",
       " 'B',\n",
       " 'C',\n",
       " 'D',\n",
       " 'E',\n",
       " 'F',\n",
       " 'G',\n",
       " 'H',\n",
       " 'I',\n",
       " 'J',\n",
       " 'K',\n",
       " 'L',\n",
       " 'M',\n",
       " 'N',\n",
       " 'O',\n",
       " 'P',\n",
       " 'Q',\n",
       " 'R',\n",
       " 'S',\n",
       " 'T',\n",
       " 'U',\n",
       " 'V',\n",
       " 'W',\n",
       " 'X',\n",
       " 'Y',\n",
       " 'Z'}"
      ]
     },
     "execution_count": 17,
     "metadata": {},
     "output_type": "execute_result"
    }
   ],
   "source": [
    "set(y)"
   ]
  },
  {
   "cell_type": "code",
   "execution_count": 18,
   "id": "3011f3ad",
   "metadata": {},
   "outputs": [
    {
     "data": {
      "text/plain": [
       "array(['A', 'B', 'C', 'D', 'E', 'F', 'G', 'H', 'I', 'J', 'K', 'L', 'M',\n",
       "       'N', 'O', 'P', 'Q', 'R', 'S', 'T', 'U', 'V', 'W', 'X', 'Y', 'Z'],\n",
       "      dtype=object)"
      ]
     },
     "execution_count": 18,
     "metadata": {},
     "output_type": "execute_result"
    }
   ],
   "source": [
    "np.unique(y)"
   ]
  },
  {
   "cell_type": "code",
   "execution_count": 19,
   "id": "83d15d6c",
   "metadata": {},
   "outputs": [],
   "source": [
    "# Dataset: Social_Network_Ads.csv\n",
    "# Location: https://mitu.co.in/dataset"
   ]
  },
  {
   "cell_type": "code",
   "execution_count": 20,
   "id": "b400dca5",
   "metadata": {},
   "outputs": [],
   "source": [
    "df = pd.read_csv('Social_Network_Ads.csv')"
   ]
  },
  {
   "cell_type": "code",
   "execution_count": 21,
   "id": "8bbbab36",
   "metadata": {},
   "outputs": [
    {
     "data": {
      "text/html": [
       "<div>\n",
       "<style scoped>\n",
       "    .dataframe tbody tr th:only-of-type {\n",
       "        vertical-align: middle;\n",
       "    }\n",
       "\n",
       "    .dataframe tbody tr th {\n",
       "        vertical-align: top;\n",
       "    }\n",
       "\n",
       "    .dataframe thead th {\n",
       "        text-align: right;\n",
       "    }\n",
       "</style>\n",
       "<table border=\"1\" class=\"dataframe\">\n",
       "  <thead>\n",
       "    <tr style=\"text-align: right;\">\n",
       "      <th></th>\n",
       "      <th>User ID</th>\n",
       "      <th>Gender</th>\n",
       "      <th>Age</th>\n",
       "      <th>EstimatedSalary</th>\n",
       "      <th>Purchased</th>\n",
       "    </tr>\n",
       "  </thead>\n",
       "  <tbody>\n",
       "    <tr>\n",
       "      <th>0</th>\n",
       "      <td>15624510</td>\n",
       "      <td>Male</td>\n",
       "      <td>19.0</td>\n",
       "      <td>19000.0</td>\n",
       "      <td>0</td>\n",
       "    </tr>\n",
       "    <tr>\n",
       "      <th>1</th>\n",
       "      <td>15810944</td>\n",
       "      <td>Male</td>\n",
       "      <td>35.0</td>\n",
       "      <td>20000.0</td>\n",
       "      <td>0</td>\n",
       "    </tr>\n",
       "    <tr>\n",
       "      <th>2</th>\n",
       "      <td>15668575</td>\n",
       "      <td>Female</td>\n",
       "      <td>26.0</td>\n",
       "      <td>43000.0</td>\n",
       "      <td>0</td>\n",
       "    </tr>\n",
       "    <tr>\n",
       "      <th>3</th>\n",
       "      <td>15603246</td>\n",
       "      <td>Female</td>\n",
       "      <td>27.0</td>\n",
       "      <td>57000.0</td>\n",
       "      <td>0</td>\n",
       "    </tr>\n",
       "    <tr>\n",
       "      <th>4</th>\n",
       "      <td>15804002</td>\n",
       "      <td>Male</td>\n",
       "      <td>19.0</td>\n",
       "      <td>76000.0</td>\n",
       "      <td>0</td>\n",
       "    </tr>\n",
       "    <tr>\n",
       "      <th>...</th>\n",
       "      <td>...</td>\n",
       "      <td>...</td>\n",
       "      <td>...</td>\n",
       "      <td>...</td>\n",
       "      <td>...</td>\n",
       "    </tr>\n",
       "    <tr>\n",
       "      <th>395</th>\n",
       "      <td>15691863</td>\n",
       "      <td>Female</td>\n",
       "      <td>46.0</td>\n",
       "      <td>41000.0</td>\n",
       "      <td>1</td>\n",
       "    </tr>\n",
       "    <tr>\n",
       "      <th>396</th>\n",
       "      <td>15706071</td>\n",
       "      <td>Male</td>\n",
       "      <td>51.0</td>\n",
       "      <td>23000.0</td>\n",
       "      <td>1</td>\n",
       "    </tr>\n",
       "    <tr>\n",
       "      <th>397</th>\n",
       "      <td>15654296</td>\n",
       "      <td>Female</td>\n",
       "      <td>50.0</td>\n",
       "      <td>20000.0</td>\n",
       "      <td>1</td>\n",
       "    </tr>\n",
       "    <tr>\n",
       "      <th>398</th>\n",
       "      <td>15755018</td>\n",
       "      <td>Male</td>\n",
       "      <td>36.0</td>\n",
       "      <td>33000.0</td>\n",
       "      <td>0</td>\n",
       "    </tr>\n",
       "    <tr>\n",
       "      <th>399</th>\n",
       "      <td>15594041</td>\n",
       "      <td>Female</td>\n",
       "      <td>49.0</td>\n",
       "      <td>36000.0</td>\n",
       "      <td>1</td>\n",
       "    </tr>\n",
       "  </tbody>\n",
       "</table>\n",
       "<p>400 rows × 5 columns</p>\n",
       "</div>"
      ],
      "text/plain": [
       "      User ID  Gender   Age  EstimatedSalary  Purchased\n",
       "0    15624510    Male  19.0          19000.0          0\n",
       "1    15810944    Male  35.0          20000.0          0\n",
       "2    15668575  Female  26.0          43000.0          0\n",
       "3    15603246  Female  27.0          57000.0          0\n",
       "4    15804002    Male  19.0          76000.0          0\n",
       "..        ...     ...   ...              ...        ...\n",
       "395  15691863  Female  46.0          41000.0          1\n",
       "396  15706071    Male  51.0          23000.0          1\n",
       "397  15654296  Female  50.0          20000.0          1\n",
       "398  15755018    Male  36.0          33000.0          0\n",
       "399  15594041  Female  49.0          36000.0          1\n",
       "\n",
       "[400 rows x 5 columns]"
      ]
     },
     "execution_count": 21,
     "metadata": {},
     "output_type": "execute_result"
    }
   ],
   "source": [
    "df"
   ]
  },
  {
   "cell_type": "code",
   "execution_count": 22,
   "id": "3ce52ae8",
   "metadata": {},
   "outputs": [
    {
     "data": {
      "text/plain": [
       "(400, 5)"
      ]
     },
     "execution_count": 22,
     "metadata": {},
     "output_type": "execute_result"
    }
   ],
   "source": [
    "df.shape"
   ]
  },
  {
   "cell_type": "code",
   "execution_count": 23,
   "id": "256d4d96",
   "metadata": {},
   "outputs": [
    {
     "data": {
      "text/plain": [
       "Index(['User ID', 'Gender', 'Age', 'EstimatedSalary', 'Purchased'], dtype='object')"
      ]
     },
     "execution_count": 23,
     "metadata": {},
     "output_type": "execute_result"
    }
   ],
   "source": [
    "df.columns"
   ]
  },
  {
   "cell_type": "markdown",
   "id": "b7d9842f",
   "metadata": {},
   "source": [
    "### Separate the input and output data"
   ]
  },
  {
   "cell_type": "code",
   "execution_count": 24,
   "id": "c243b9f7",
   "metadata": {},
   "outputs": [],
   "source": [
    "x = df[['Age','EstimatedSalary']]\n",
    "\n",
    "y = df['Purchased']"
   ]
  },
  {
   "cell_type": "code",
   "execution_count": 25,
   "id": "6175b023",
   "metadata": {},
   "outputs": [
    {
     "data": {
      "image/png": "[encoded data removed]",
      "text/plain": [
       "<Figure size 432x288 with 1 Axes>"
      ]
     },
     "metadata": {
      "needs_background": "light"
     },
     "output_type": "display_data"
    }
   ],
   "source": [
    "sns.countplot(x=y);"
   ]
  },
  {
   "cell_type": "code",
   "execution_count": 26,
   "id": "3dc54163",
   "metadata": {},
   "outputs": [
    {
     "data": {
      "text/plain": [
       "{0, 1}"
      ]
     },
     "execution_count": 26,
     "metadata": {},
     "output_type": "execute_result"
    }
   ],
   "source": [
    "set(y)"
   ]
  },
  {
   "cell_type": "code",
   "execution_count": 27,
   "id": "f76830c9",
   "metadata": {},
   "outputs": [
    {
     "data": {
      "text/plain": [
       "array([0, 1])"
      ]
     },
     "execution_count": 27,
     "metadata": {},
     "output_type": "execute_result"
    }
   ],
   "source": [
    "np.unique(y)"
   ]
  },
  {
   "cell_type": "code",
   "execution_count": 28,
   "id": "a924ee55",
   "metadata": {},
   "outputs": [
    {
     "data": {
      "text/plain": [
       "0    257\n",
       "1    143\n",
       "Name: Purchased, dtype: int64"
      ]
     },
     "execution_count": 28,
     "metadata": {},
     "output_type": "execute_result"
    }
   ],
   "source": [
    "y.value_counts()"
   ]
  },
  {
   "cell_type": "markdown",
   "id": "635af4a0",
   "metadata": {},
   "source": [
    "### Explore the data"
   ]
  },
  {
   "cell_type": "code",
   "execution_count": 29,
   "id": "bb199208",
   "metadata": {},
   "outputs": [
    {
     "data": {
      "text/plain": [
       "<matplotlib.collections.PathCollection at 0x7f0b2f82d550>"
      ]
     },
     "execution_count": 29,
     "metadata": {},
     "output_type": "execute_result"
    },
    {
     "data": {
      "image/png": "[encoded data removed]",
      "text/plain": [
       "<Figure size 432x288 with 1 Axes>"
      ]
     },
     "metadata": {
      "needs_background": "light"
     },
     "output_type": "display_data"
    }
   ],
   "source": [
    "plt.xlabel('Age')\n",
    "plt.ylabel('Salary')\n",
    "plt.grid()\n",
    "plt.scatter(x['Age'], x['EstimatedSalary'], c=y)"
   ]
  },
  {
   "cell_type": "code",
   "execution_count": 30,
   "id": "2b9039d1",
   "metadata": {},
   "outputs": [
    {
     "data": {
      "text/plain": [
       "<seaborn.axisgrid.JointGrid at 0x7f0b2f7e9790>"
      ]
     },
     "execution_count": 30,
     "metadata": {},
     "output_type": "execute_result"
    },
    {
     "data": {
      "image/png": "[encoded data removed]",
      "text/plain": [
       "<Figure size 432x432 with 3 Axes>"
      ]
     },
     "metadata": {
      "needs_background": "light"
     },
     "output_type": "display_data"
    }
   ],
   "source": [
    "sns.jointplot(x='Age', y='EstimatedSalary', data=df, hue='Purchased')"
   ]
  },
  {
   "cell_type": "markdown",
   "id": "8ff1553b",
   "metadata": {},
   "source": [
    "### Normalize the data"
   ]
  },
  {
   "cell_type": "code",
   "execution_count": 31,
   "id": "1bb76a93",
   "metadata": {},
   "outputs": [
    {
     "data": {
      "text/plain": [
       "(Age                   18.0\n",
       " EstimatedSalary    15000.0\n",
       " dtype: float64,\n",
       " Age                    60.0\n",
       " EstimatedSalary    150000.0\n",
       " dtype: float64)"
      ]
     },
     "execution_count": 31,
     "metadata": {},
     "output_type": "execute_result"
    }
   ],
   "source": [
    "x.min(), x.max()"
   ]
  },
  {
   "cell_type": "code",
   "execution_count": 32,
   "id": "2b0f584f",
   "metadata": {},
   "outputs": [],
   "source": [
    "# Import the class\n",
    "from sklearn.preprocessing import MinMaxScaler"
   ]
  },
  {
   "cell_type": "code",
   "execution_count": 33,
   "id": "e9f2d407",
   "metadata": {},
   "outputs": [],
   "source": [
    "# Create the object\n",
    "scaler = MinMaxScaler()"
   ]
  },
  {
   "cell_type": "code",
   "execution_count": 34,
   "id": "2b2e850a",
   "metadata": {},
   "outputs": [],
   "source": [
    "# Apply the scaling\n",
    "x_scaled = scaler.fit_transform(x)"
   ]
  },
  {
   "cell_type": "code",
   "execution_count": 35,
   "id": "4d2eb5d1",
   "metadata": {},
   "outputs": [
    {
     "data": {
      "text/plain": [
       "array([[0.02380952, 0.02962963],\n",
       "       [0.4047619 , 0.03703704],\n",
       "       [0.19047619, 0.20740741],\n",
       "       [0.21428571, 0.31111111],\n",
       "       [0.02380952, 0.45185185],\n",
       "       [0.21428571, 0.31851852],\n",
       "       [0.21428571, 0.51111111],\n",
       "       [0.33333333, 1.        ],\n",
       "       [0.16666667, 0.13333333],\n",
       "       [0.4047619 , 0.37037037],\n",
       "       [0.19047619, 0.48148148],\n",
       "       [0.19047619, 0.27407407],\n",
       "       [0.04761905, 0.52592593],\n",
       "       [0.33333333, 0.02222222],\n",
       "       [0.        , 0.4962963 ],\n",
       "       [0.26190476, 0.48148148],\n",
       "       [0.69047619, 0.07407407],\n",
       "       [0.64285714, 0.08148148],\n",
       "       [0.66666667, 0.0962963 ],\n",
       "       [0.71428571, 0.1037037 ],\n",
       "       [0.64285714, 0.05185185],\n",
       "       [0.69047619, 0.25185185],\n",
       "       [0.71428571, 0.19259259],\n",
       "       [0.64285714, 0.05185185],\n",
       "       [0.66666667, 0.05925926],\n",
       "       [0.69047619, 0.03703704],\n",
       "       [0.73809524, 0.0962963 ],\n",
       "       [0.69047619, 0.11111111],\n",
       "       [0.26190476, 0.20740741],\n",
       "       [0.30952381, 0.02222222],\n",
       "       [0.30952381, 0.43703704],\n",
       "       [0.21428571, 0.9037037 ],\n",
       "       [0.07142857, 0.00740741],\n",
       "       [0.23809524, 0.21481481],\n",
       "       [0.21428571, 0.55555556],\n",
       "       [0.4047619 , 0.08888889],\n",
       "       [0.35714286, 0.0962963 ],\n",
       "       [0.28571429, 0.25185185],\n",
       "       [0.19047619, 0.42222222],\n",
       "       [0.21428571, 0.11851852],\n",
       "       [0.21428571, 0.01481481],\n",
       "       [0.35714286, 0.26666667],\n",
       "       [0.4047619 , 0.68888889],\n",
       "       [0.28571429, 0.        ],\n",
       "       [0.23809524, 0.51111111],\n",
       "       [0.11904762, 0.03703704],\n",
       "       [0.16666667, 0.47407407],\n",
       "       [0.21428571, 0.28888889],\n",
       "       [0.28571429, 0.88888889],\n",
       "       [0.30952381, 0.54814815],\n",
       "       [0.14285714, 0.12592593],\n",
       "       [0.        , 0.21481481],\n",
       "       [0.26190476, 0.5037037 ],\n",
       "       [0.4047619 , 0.05925926],\n",
       "       [0.21428571, 0.31851852],\n",
       "       [0.14285714, 0.2962963 ],\n",
       "       [0.11904762, 0.24444444],\n",
       "       [0.23809524, 0.47407407],\n",
       "       [0.0952381 , 0.02222222],\n",
       "       [0.33333333, 0.75555556],\n",
       "       [0.21428571, 0.03703704],\n",
       "       [0.16666667, 0.53333333],\n",
       "       [0.11904762, 0.37777778],\n",
       "       [0.33333333, 0.77777778],\n",
       "       [0.97619048, 0.5037037 ],\n",
       "       [0.14285714, 0.31851852],\n",
       "       [0.14285714, 0.02962963],\n",
       "       [0.11904762, 0.4962963 ],\n",
       "       [0.0952381 , 0.35555556],\n",
       "       [0.30952381, 0.39259259],\n",
       "       [0.16666667, 0.48148148],\n",
       "       [0.14285714, 0.08888889],\n",
       "       [0.04761905, 0.05925926],\n",
       "       [0.35714286, 0.72592593],\n",
       "       [0.33333333, 0.02222222],\n",
       "       [0.38095238, 0.71851852],\n",
       "       [0.        , 0.27407407],\n",
       "       [0.0952381 , 0.08888889],\n",
       "       [0.23809524, 0.53333333],\n",
       "       [0.19047619, 0.01481481],\n",
       "       [0.28571429, 0.48148148],\n",
       "       [0.5       , 0.2       ],\n",
       "       [0.04761905, 0.25185185],\n",
       "       [0.4047619 , 0.54074074],\n",
       "       [0.28571429, 0.34814815],\n",
       "       [0.30952381, 0.76296296],\n",
       "       [0.14285714, 0.2962963 ],\n",
       "       [0.23809524, 0.51851852],\n",
       "       [0.19047619, 0.48888889],\n",
       "       [0.4047619 , 0.25925926],\n",
       "       [0.0952381 , 0.48888889],\n",
       "       [0.28571429, 0.74814815],\n",
       "       [0.19047619, 0.        ],\n",
       "       [0.26190476, 0.0962963 ],\n",
       "       [0.26190476, 0.5037037 ],\n",
       "       [0.4047619 , 0.21481481],\n",
       "       [0.4047619 , 0.07407407],\n",
       "       [0.23809524, 0.8       ],\n",
       "       [0.4047619 , 0.42962963],\n",
       "       [0.23809524, 0.16296296],\n",
       "       [0.21428571, 0.54074074],\n",
       "       [0.23809524, 0.32592593],\n",
       "       [0.33333333, 0.52592593],\n",
       "       [0.35714286, 0.99259259],\n",
       "       [0.02380952, 0.04444444],\n",
       "       [0.07142857, 0.42222222],\n",
       "       [0.19047619, 0.14814815],\n",
       "       [0.21428571, 0.54814815],\n",
       "       [0.19047619, 0.52592593],\n",
       "       [0.47619048, 0.48148148],\n",
       "       [0.5       , 0.41481481],\n",
       "       [0.45238095, 0.41481481],\n",
       "       [0.47619048, 0.34074074],\n",
       "       [0.45238095, 0.2962963 ],\n",
       "       [0.57142857, 0.48148148],\n",
       "       [0.52380952, 0.31111111],\n",
       "       [0.4047619 , 0.44444444],\n",
       "       [0.42857143, 0.27407407],\n",
       "       [0.52380952, 0.32592593],\n",
       "       [0.54761905, 0.32592593],\n",
       "       [0.42857143, 0.44444444],\n",
       "       [0.45238095, 0.42222222],\n",
       "       [0.52380952, 0.44444444],\n",
       "       [0.4047619 , 0.28148148],\n",
       "       [0.54761905, 0.26666667],\n",
       "       [0.5       , 0.34074074],\n",
       "       [0.57142857, 0.37037037],\n",
       "       [0.19047619, 0.12592593],\n",
       "       [0.28571429, 0.01481481],\n",
       "       [0.19047619, 0.51111111],\n",
       "       [0.30952381, 0.31851852],\n",
       "       [0.35714286, 0.11851852],\n",
       "       [0.28571429, 0.53333333],\n",
       "       [0.07142857, 0.39259259],\n",
       "       [0.23809524, 0.2962963 ],\n",
       "       [0.11904762, 0.35555556],\n",
       "       [0.04761905, 0.4962963 ],\n",
       "       [0.28571429, 0.68148148],\n",
       "       [0.23809524, 0.32592593],\n",
       "       [0.02380952, 0.07407407],\n",
       "       [0.02380952, 0.51851852],\n",
       "       [0.        , 0.39259259],\n",
       "       [0.4047619 , 0.32592593],\n",
       "       [0.28571429, 0.54814815],\n",
       "       [0.38095238, 0.07407407],\n",
       "       [0.14285714, 0.54814815],\n",
       "       [0.21428571, 0.6       ],\n",
       "       [0.54761905, 0.11111111],\n",
       "       [0.26190476, 0.34074074],\n",
       "       [0.04761905, 0.43703704],\n",
       "       [0.19047619, 0.        ],\n",
       "       [0.54761905, 0.22222222],\n",
       "       [0.30952381, 0.45185185],\n",
       "       [0.42857143, 0.25925926],\n",
       "       [0.52380952, 0.23703704],\n",
       "       [0.30952381, 0.        ],\n",
       "       [0.66666667, 0.32592593],\n",
       "       [0.26190476, 0.44444444],\n",
       "       [0.19047619, 0.11111111],\n",
       "       [0.33333333, 0.88888889],\n",
       "       [0.33333333, 0.62962963],\n",
       "       [0.16666667, 0.55555556],\n",
       "       [0.45238095, 0.13333333],\n",
       "       [0.4047619 , 0.17037037],\n",
       "       [0.35714286, 0.4       ],\n",
       "       [0.        , 0.52592593],\n",
       "       [0.0952381 , 0.2962963 ],\n",
       "       [0.4047619 , 0.41481481],\n",
       "       [0.26190476, 0.98518519],\n",
       "       [0.26190476, 0.23703704],\n",
       "       [0.07142857, 0.54074074],\n",
       "       [0.38095238, 0.74074074],\n",
       "       [0.19047619, 0.76296296],\n",
       "       [0.38095238, 0.20740741],\n",
       "       [0.38095238, 0.42222222],\n",
       "       [0.11904762, 0.0962963 ],\n",
       "       [0.4047619 , 0.23703704],\n",
       "       [0.16666667, 0.05185185],\n",
       "       [0.14285714, 0.05925926],\n",
       "       [0.30952381, 0.14074074],\n",
       "       [0.19047619, 0.00740741],\n",
       "       [0.30952381, 0.41481481],\n",
       "       [0.33333333, 0.75555556],\n",
       "       [0.35714286, 0.20740741],\n",
       "       [0.35714286, 0.33333333],\n",
       "       [0.30952381, 0.37777778],\n",
       "       [0.04761905, 0.4962963 ],\n",
       "       [0.35714286, 0.19259259],\n",
       "       [0.4047619 , 0.42222222],\n",
       "       [0.23809524, 0.12592593],\n",
       "       [0.14285714, 0.51111111],\n",
       "       [0.02380952, 0.08148148],\n",
       "       [0.26190476, 0.20740741],\n",
       "       [0.02380952, 0.40740741],\n",
       "       [0.23809524, 0.54814815],\n",
       "       [0.38095238, 0.20740741],\n",
       "       [0.28571429, 0.47407407],\n",
       "       [0.04761905, 0.15555556],\n",
       "       [0.19047619, 0.48148148],\n",
       "       [0.4047619 , 0.05185185],\n",
       "       [0.4047619 , 0.17777778],\n",
       "       [0.73809524, 0.43703704],\n",
       "       [0.5       , 0.88148148],\n",
       "       [0.54761905, 0.41481481],\n",
       "       [0.95238095, 0.63703704],\n",
       "       [0.69047619, 0.23703704],\n",
       "       [0.88095238, 0.85185185],\n",
       "       [0.80952381, 0.73333333],\n",
       "       [0.52380952, 0.94074074],\n",
       "       [0.66666667, 0.05185185],\n",
       "       [0.71428571, 0.6       ],\n",
       "       [0.80952381, 1.        ],\n",
       "       [0.97619048, 0.2       ],\n",
       "       [0.4047619 , 0.31851852],\n",
       "       [0.69047619, 0.20740741],\n",
       "       [1.        , 0.68888889],\n",
       "       [0.73809524, 0.37037037],\n",
       "       [0.52380952, 0.46666667],\n",
       "       [0.66666667, 0.6       ],\n",
       "       [0.97619048, 0.94814815],\n",
       "       [0.54761905, 0.48148148],\n",
       "       [0.4047619 , 0.56296296],\n",
       "       [0.45238095, 0.95555556],\n",
       "       [1.        , 0.64444444],\n",
       "       [0.4047619 , 0.33333333],\n",
       "       [0.45238095, 0.28148148],\n",
       "       [0.42857143, 0.82222222],\n",
       "       [0.9047619 , 0.87407407],\n",
       "       [0.52380952, 0.42222222],\n",
       "       [0.57142857, 0.48148148],\n",
       "       [0.4047619 , 0.97777778],\n",
       "       [0.5       , 0.2       ],\n",
       "       [0.52380952, 0.68148148],\n",
       "       [0.73809524, 0.52592593],\n",
       "       [0.47619048, 0.71851852],\n",
       "       [0.66666667, 0.47407407],\n",
       "       [0.52380952, 0.31111111],\n",
       "       [0.45238095, 0.48148148],\n",
       "       [0.66666667, 0.4962963 ],\n",
       "       [0.83333333, 0.94814815],\n",
       "       [0.57142857, 0.99259259],\n",
       "       [0.47619048, 0.32592593],\n",
       "       [0.76190476, 0.54074074],\n",
       "       [0.9047619 , 0.65925926],\n",
       "       [0.54761905, 0.42222222],\n",
       "       [0.78571429, 0.97037037],\n",
       "       [0.4047619 , 0.25925926],\n",
       "       [0.92857143, 0.79259259],\n",
       "       [0.54761905, 0.27407407],\n",
       "       [0.4047619 , 0.60740741],\n",
       "       [0.61904762, 0.17777778],\n",
       "       [0.45238095, 0.27407407],\n",
       "       [0.71428571, 0.88148148],\n",
       "       [0.45238095, 0.97037037],\n",
       "       [0.76190476, 0.21481481],\n",
       "       [0.80952381, 0.55555556],\n",
       "       [0.54761905, 0.42222222],\n",
       "       [0.52380952, 0.31111111],\n",
       "       [0.95238095, 0.59259259],\n",
       "       [0.64285714, 0.85925926],\n",
       "       [0.4047619 , 0.45925926],\n",
       "       [0.42857143, 0.95555556],\n",
       "       [0.88095238, 0.81481481],\n",
       "       [0.4047619 , 0.42222222],\n",
       "       [0.71428571, 0.55555556],\n",
       "       [0.57142857, 0.68888889],\n",
       "       [0.52380952, 0.44444444],\n",
       "       [0.45238095, 0.43703704],\n",
       "       [0.69047619, 0.95555556],\n",
       "       [0.52380952, 0.34074074],\n",
       "       [0.5952381 , 0.87407407],\n",
       "       [0.97619048, 0.45185185],\n",
       "       [1.        , 0.2       ],\n",
       "       [0.5       , 0.67407407],\n",
       "       [0.92857143, 0.08148148],\n",
       "       [0.92857143, 0.43703704],\n",
       "       [0.47619048, 0.41481481],\n",
       "       [0.73809524, 0.54074074],\n",
       "       [0.80952381, 0.17037037],\n",
       "       [0.76190476, 0.15555556],\n",
       "       [0.97619048, 0.54074074],\n",
       "       [0.4047619 , 0.34074074],\n",
       "       [0.45238095, 0.40740741],\n",
       "       [0.80952381, 0.04444444],\n",
       "       [0.71428571, 0.93333333],\n",
       "       [0.45238095, 0.57777778],\n",
       "       [0.45238095, 0.34814815],\n",
       "       [0.71428571, 0.91111111],\n",
       "       [0.54761905, 0.47407407],\n",
       "       [0.45238095, 0.46666667],\n",
       "       [0.5       , 0.88148148],\n",
       "       [0.73809524, 0.54814815],\n",
       "       [0.88095238, 0.17777778],\n",
       "       [0.45238095, 0.45925926],\n",
       "       [0.4047619 , 0.31111111],\n",
       "       [0.42857143, 0.35555556],\n",
       "       [0.57142857, 0.42962963],\n",
       "       [0.5952381 , 0.71851852],\n",
       "       [0.64285714, 0.47407407],\n",
       "       [0.66666667, 0.75555556],\n",
       "       [0.95238095, 0.17037037],\n",
       "       [0.71428571, 0.43703704],\n",
       "       [0.45238095, 0.9037037 ],\n",
       "       [0.45238095, 0.47407407],\n",
       "       [0.52380952, 0.33333333],\n",
       "       [0.57142857, 0.28888889],\n",
       "       [0.78571429, 0.88148148],\n",
       "       [0.69047619, 0.72592593],\n",
       "       [0.42857143, 0.81481481],\n",
       "       [0.47619048, 0.25925926],\n",
       "       [0.57142857, 0.40740741],\n",
       "       [0.5       , 0.6       ],\n",
       "       [0.47619048, 0.25925926],\n",
       "       [0.73809524, 0.93333333],\n",
       "       [0.5       , 0.47407407],\n",
       "       [0.5       , 0.44444444],\n",
       "       [0.85714286, 0.65925926],\n",
       "       [0.4047619 , 0.2962963 ],\n",
       "       [0.64285714, 0.12592593],\n",
       "       [0.42857143, 0.33333333],\n",
       "       [0.80952381, 0.91111111],\n",
       "       [0.83333333, 0.4962963 ],\n",
       "       [0.54761905, 0.27407407],\n",
       "       [0.71428571, 0.11111111],\n",
       "       [0.71428571, 0.85925926],\n",
       "       [0.54761905, 0.33333333],\n",
       "       [0.54761905, 0.42222222],\n",
       "       [0.57142857, 0.44444444],\n",
       "       [0.42857143, 0.76296296],\n",
       "       [0.69047619, 0.68148148],\n",
       "       [0.47619048, 0.26666667],\n",
       "       [0.71428571, 0.77037037],\n",
       "       [0.57142857, 0.37037037],\n",
       "       [0.52380952, 0.37037037],\n",
       "       [0.92857143, 0.33333333],\n",
       "       [0.42857143, 0.28888889],\n",
       "       [0.95238095, 0.95555556],\n",
       "       [0.4047619 , 0.47407407],\n",
       "       [0.47619048, 0.2962963 ],\n",
       "       [0.5       , 0.79259259],\n",
       "       [0.83333333, 0.65925926],\n",
       "       [0.4047619 , 0.44444444],\n",
       "       [0.47619048, 0.37037037],\n",
       "       [0.69047619, 0.26666667],\n",
       "       [0.69047619, 0.66666667],\n",
       "       [0.54761905, 0.35555556],\n",
       "       [0.83333333, 0.42222222],\n",
       "       [0.85714286, 0.68888889],\n",
       "       [0.5       , 0.45925926],\n",
       "       [0.47619048, 0.34074074],\n",
       "       [0.47619048, 0.72592593],\n",
       "       [0.45238095, 0.44444444],\n",
       "       [0.57142857, 0.55555556],\n",
       "       [0.45238095, 0.31111111],\n",
       "       [0.42857143, 0.62222222],\n",
       "       [1.        , 0.14074074],\n",
       "       [0.85714286, 0.40740741],\n",
       "       [0.54761905, 0.42222222],\n",
       "       [0.52380952, 0.41481481],\n",
       "       [0.57142857, 0.28888889],\n",
       "       [0.5952381 , 0.84444444],\n",
       "       [0.83333333, 0.14074074],\n",
       "       [0.69047619, 0.25925926],\n",
       "       [0.57142857, 0.47407407],\n",
       "       [0.57142857, 0.65925926],\n",
       "       [0.97619048, 0.1037037 ],\n",
       "       [0.95238095, 0.23703704],\n",
       "       [0.66666667, 0.54074074],\n",
       "       [0.47619048, 0.41481481],\n",
       "       [0.85714286, 0.08148148],\n",
       "       [1.        , 0.22962963],\n",
       "       [1.        , 0.5037037 ],\n",
       "       [0.5       , 0.42962963],\n",
       "       [0.97619048, 0.85185185],\n",
       "       [0.45238095, 0.48148148],\n",
       "       [0.66666667, 0.12592593],\n",
       "       [0.66666667, 0.43703704],\n",
       "       [0.57142857, 0.28148148],\n",
       "       [0.54761905, 0.53333333],\n",
       "       [0.95238095, 0.05925926],\n",
       "       [0.57142857, 0.36296296],\n",
       "       [0.71428571, 0.13333333],\n",
       "       [0.61904762, 0.91851852],\n",
       "       [0.73809524, 0.0962963 ],\n",
       "       [0.92857143, 0.13333333],\n",
       "       [0.9047619 , 0.33333333],\n",
       "       [0.73809524, 0.17777778],\n",
       "       [0.5       , 0.41481481],\n",
       "       [0.69047619, 0.14074074],\n",
       "       [0.71428571, 0.14814815],\n",
       "       [0.71428571, 0.13333333],\n",
       "       [0.69047619, 0.05925926],\n",
       "       [0.64285714, 0.22222222],\n",
       "       [1.        , 0.2       ],\n",
       "       [0.5       , 0.32592593],\n",
       "       [0.66666667, 0.19259259],\n",
       "       [0.78571429, 0.05925926],\n",
       "       [0.76190476, 0.03703704],\n",
       "       [0.42857143, 0.13333333],\n",
       "       [0.73809524, 0.15555556]])"
      ]
     },
     "execution_count": 35,
     "metadata": {},
     "output_type": "execute_result"
    }
   ],
   "source": [
    "x_scaled"
   ]
  },
  {
   "cell_type": "code",
   "execution_count": 36,
   "id": "bceb6e32",
   "metadata": {},
   "outputs": [
    {
     "data": {
      "text/plain": [
       "(0.0, 0.0)"
      ]
     },
     "execution_count": 36,
     "metadata": {},
     "output_type": "execute_result"
    }
   ],
   "source": [
    "x_scaled[:,0].min(), x_scaled[:,1].min()"
   ]
  },
  {
   "cell_type": "code",
   "execution_count": 37,
   "id": "503a2374",
   "metadata": {},
   "outputs": [
    {
     "data": {
      "text/plain": [
       "(0.9999999999999998, 1.0)"
      ]
     },
     "execution_count": 37,
     "metadata": {},
     "output_type": "execute_result"
    }
   ],
   "source": [
    "x_scaled[:,0].max(), x_scaled[:,1].max()"
   ]
  },
  {
   "cell_type": "code",
   "execution_count": 38,
   "id": "87c96f5f",
   "metadata": {},
   "outputs": [
    {
     "data": {
      "text/plain": [
       "<matplotlib.collections.PathCollection at 0x7f0b293c0880>"
      ]
     },
     "execution_count": 38,
     "metadata": {},
     "output_type": "execute_result"
    },
    {
     "data": {
      "image/png": "[encoded data removed]",
      "text/plain": [
       "<Figure size 432x288 with 1 Axes>"
      ]
     },
     "metadata": {
      "needs_background": "light"
     },
     "output_type": "display_data"
    }
   ],
   "source": [
    "plt.xlabel('Age')\n",
    "plt.ylabel('Salary')\n",
    "plt.grid()\n",
    "plt.scatter(x_scaled[:,0], x_scaled[:,1], c=y)"
   ]
  },
  {
   "cell_type": "markdown",
   "id": "42b02ca9",
   "metadata": {},
   "source": [
    "### Cross - validation"
   ]
  },
  {
   "cell_type": "code",
   "execution_count": 39,
   "id": "1d5afb90",
   "metadata": {},
   "outputs": [],
   "source": [
    "from sklearn.model_selection import train_test_split"
   ]
  },
  {
   "cell_type": "code",
   "execution_count": 40,
   "id": "24a86d64",
   "metadata": {},
   "outputs": [],
   "source": [
    "x_train, x_test, y_train, y_test = train_test_split(\n",
    "    x_scaled, y, random_state=0, test_size=0.25)"
   ]
  },
  {
   "cell_type": "code",
   "execution_count": 41,
   "id": "75a66533",
   "metadata": {},
   "outputs": [
    {
     "data": {
      "text/plain": [
       "(400, 2)"
      ]
     },
     "execution_count": 41,
     "metadata": {},
     "output_type": "execute_result"
    }
   ],
   "source": [
    "x.shape"
   ]
  },
  {
   "cell_type": "code",
   "execution_count": 42,
   "id": "21d8ac8d",
   "metadata": {},
   "outputs": [
    {
     "data": {
      "text/plain": [
       "(300, 2)"
      ]
     },
     "execution_count": 42,
     "metadata": {},
     "output_type": "execute_result"
    }
   ],
   "source": [
    "x_train.shape"
   ]
  },
  {
   "cell_type": "code",
   "execution_count": 43,
   "id": "c4c20c3d",
   "metadata": {},
   "outputs": [
    {
     "data": {
      "text/plain": [
       "(100, 2)"
      ]
     },
     "execution_count": 43,
     "metadata": {},
     "output_type": "execute_result"
    }
   ],
   "source": [
    "x_test.shape"
   ]
  },
  {
   "cell_type": "markdown",
   "id": "12ef7ba2",
   "metadata": {},
   "source": [
    "### Build the SVM Model"
   ]
  },
  {
   "cell_type": "code",
   "execution_count": 44,
   "id": "e2df1197",
   "metadata": {},
   "outputs": [],
   "source": [
    "# import the class\n",
    "from sklearn.svm import SVC"
   ]
  },
  {
   "cell_type": "code",
   "execution_count": 45,
   "id": "ecf01490",
   "metadata": {},
   "outputs": [],
   "source": [
    "# create the object\n",
    "classifier = SVC(kernel='linear', random_state=0)"
   ]
  },
  {
   "cell_type": "code",
   "execution_count": 46,
   "id": "380707d4",
   "metadata": {},
   "outputs": [
    {
     "data": {
      "text/plain": [
       "SVC(kernel='linear', random_state=0)"
      ]
     },
     "execution_count": 46,
     "metadata": {},
     "output_type": "execute_result"
    }
   ],
   "source": [
    "# Train the algorithm\n",
    "classifier.fit(x_train, y_train)"
   ]
  },
  {
   "cell_type": "markdown",
   "id": "c77d32a7",
   "metadata": {},
   "source": [
    "### Performance Evaluation"
   ]
  },
  {
   "cell_type": "code",
   "execution_count": 47,
   "id": "9895c21c",
   "metadata": {},
   "outputs": [
    {
     "data": {
      "text/plain": [
       "array([[0.28571429, 0.53333333],\n",
       "       [0.47619048, 0.25925926],\n",
       "       [0.4047619 , 0.44444444],\n",
       "       [0.28571429, 0.47407407],\n",
       "       [0.4047619 , 0.25925926],\n",
       "       [0.21428571, 0.03703704],\n",
       "       [0.30952381, 0.        ],\n",
       "       [0.42857143, 0.95555556],\n",
       "       [0.        , 0.39259259],\n",
       "       [0.69047619, 0.20740741],\n",
       "       [0.28571429, 0.25185185],\n",
       "       [0.23809524, 0.2962963 ],\n",
       "       [0.45238095, 0.2962963 ],\n",
       "       [0.5       , 0.45925926],\n",
       "       [0.04761905, 0.52592593],\n",
       "       [0.33333333, 0.75555556],\n",
       "       [0.45238095, 0.45925926],\n",
       "       [0.02380952, 0.51851852],\n",
       "       [0.88095238, 0.85185185],\n",
       "       [0.4047619 , 0.05185185],\n",
       "       [0.4047619 , 0.23703704],\n",
       "       [0.69047619, 0.95555556],\n",
       "       [0.54761905, 0.26666667],\n",
       "       [0.69047619, 0.66666667],\n",
       "       [0.11904762, 0.0962963 ],\n",
       "       [0.73809524, 0.93333333],\n",
       "       [0.23809524, 0.53333333],\n",
       "       [0.26190476, 0.48148148],\n",
       "       [0.45238095, 0.34814815],\n",
       "       [0.33333333, 0.52592593],\n",
       "       [0.07142857, 0.54074074],\n",
       "       [0.45238095, 0.47407407],\n",
       "       [0.92857143, 0.33333333],\n",
       "       [0.45238095, 0.28148148],\n",
       "       [0.14285714, 0.31851852],\n",
       "       [0.        , 0.27407407],\n",
       "       [0.0952381 , 0.48888889],\n",
       "       [0.38095238, 0.20740741],\n",
       "       [0.30952381, 0.14074074],\n",
       "       [0.73809524, 0.15555556],\n",
       "       [0.21428571, 0.54074074],\n",
       "       [0.54761905, 0.27407407],\n",
       "       [0.21428571, 0.51111111],\n",
       "       [0.4047619 , 0.03703704],\n",
       "       [0.5952381 , 0.71851852],\n",
       "       [0.21428571, 0.31851852],\n",
       "       [0.45238095, 0.48148148],\n",
       "       [0.80952381, 0.55555556],\n",
       "       [0.19047619, 0.11111111],\n",
       "       [0.73809524, 0.52592593],\n",
       "       [0.92857143, 0.79259259],\n",
       "       [0.38095238, 0.07407407],\n",
       "       [0.4047619 , 0.31111111],\n",
       "       [0.38095238, 0.74074074],\n",
       "       [0.97619048, 0.54074074],\n",
       "       [0.64285714, 0.12592593],\n",
       "       [0.26190476, 0.5037037 ],\n",
       "       [0.19047619, 0.48148148],\n",
       "       [0.73809524, 0.0962963 ],\n",
       "       [0.11904762, 0.03703704],\n",
       "       [0.33333333, 0.02222222],\n",
       "       [1.        , 0.2       ],\n",
       "       [0.02380952, 0.45185185],\n",
       "       [0.42857143, 0.62222222],\n",
       "       [0.02380952, 0.08148148],\n",
       "       [1.        , 0.5037037 ],\n",
       "       [0.14285714, 0.54814815],\n",
       "       [0.21428571, 0.31851852],\n",
       "       [0.52380952, 0.23703704],\n",
       "       [0.57142857, 0.40740741],\n",
       "       [0.33333333, 1.        ],\n",
       "       [0.4047619 , 0.45925926],\n",
       "       [0.0952381 , 0.35555556],\n",
       "       [0.64285714, 0.05185185],\n",
       "       [0.21428571, 0.54814815],\n",
       "       [0.        , 0.4962963 ],\n",
       "       [0.57142857, 0.47407407],\n",
       "       [0.52380952, 0.33333333],\n",
       "       [0.83333333, 0.14074074],\n",
       "       [0.69047619, 0.68148148],\n",
       "       [0.95238095, 0.95555556],\n",
       "       [0.97619048, 0.5037037 ],\n",
       "       [0.14285714, 0.2962963 ],\n",
       "       [0.19047619, 0.14814815],\n",
       "       [0.95238095, 0.17037037],\n",
       "       [0.57142857, 0.48148148],\n",
       "       [0.52380952, 0.44444444],\n",
       "       [0.97619048, 0.85185185],\n",
       "       [0.66666667, 0.19259259],\n",
       "       [0.54761905, 0.33333333],\n",
       "       [0.57142857, 0.36296296],\n",
       "       [0.45238095, 0.97037037],\n",
       "       [0.11904762, 0.24444444],\n",
       "       [0.16666667, 0.13333333],\n",
       "       [0.14285714, 0.51111111],\n",
       "       [0.21428571, 0.6       ],\n",
       "       [0.11904762, 0.35555556],\n",
       "       [0.71428571, 0.13333333],\n",
       "       [0.71428571, 0.55555556],\n",
       "       [0.57142857, 0.65925926]])"
      ]
     },
     "execution_count": 47,
     "metadata": {},
     "output_type": "execute_result"
    }
   ],
   "source": [
    "x_test"
   ]
  },
  {
   "cell_type": "code",
   "execution_count": 48,
   "id": "98457afa",
   "metadata": {},
   "outputs": [],
   "source": [
    "y_pred = classifier.predict(x_test)"
   ]
  },
  {
   "cell_type": "code",
   "execution_count": 49,
   "id": "f976e0a3",
   "metadata": {},
   "outputs": [
    {
     "data": {
      "text/plain": [
       "array([0, 0, 0, 0, 0, 0, 0, 1, 0, 0, 0, 0, 0, 0, 0, 0, 0, 0, 1, 0, 0, 1,\n",
       "       0, 1, 0, 1, 0, 0, 0, 0, 0, 0, 1, 0, 0, 0, 0, 0, 0, 0, 0, 0, 0, 0,\n",
       "       1, 0, 0, 1, 0, 1, 1, 0, 0, 0, 1, 0, 0, 0, 0, 0, 0, 1, 0, 0, 0, 1,\n",
       "       0, 0, 0, 0, 1, 0, 0, 0, 0, 0, 0, 0, 1, 1, 1, 1, 0, 0, 1, 0, 0, 1,\n",
       "       0, 0, 0, 1, 0, 0, 0, 0, 0, 0, 1, 1])"
      ]
     },
     "execution_count": 49,
     "metadata": {},
     "output_type": "execute_result"
    }
   ],
   "source": [
    "y_pred"
   ]
  },
  {
   "cell_type": "code",
   "execution_count": 50,
   "id": "cab8ad00",
   "metadata": {},
   "outputs": [
    {
     "data": {
      "text/plain": [
       "array([0, 0, 0, 0, 0, 0, 0, 1, 0, 0, 0, 0, 0, 0, 0, 0, 0, 0, 1, 0, 0, 1,\n",
       "       0, 1, 0, 1, 0, 0, 0, 0, 0, 1, 1, 0, 0, 0, 0, 0, 0, 1, 0, 0, 0, 0,\n",
       "       1, 0, 0, 1, 0, 1, 1, 0, 0, 0, 1, 1, 0, 0, 1, 0, 0, 1, 0, 1, 0, 1,\n",
       "       0, 0, 0, 0, 1, 0, 0, 1, 0, 0, 0, 0, 1, 1, 1, 0, 0, 0, 1, 1, 0, 1,\n",
       "       1, 0, 0, 1, 0, 0, 0, 1, 0, 1, 1, 1])"
      ]
     },
     "execution_count": 50,
     "metadata": {},
     "output_type": "execute_result"
    }
   ],
   "source": [
    "np.array(y_test)"
   ]
  },
  {
   "cell_type": "code",
   "execution_count": 51,
   "id": "df1d9169",
   "metadata": {},
   "outputs": [],
   "source": [
    "result = pd.DataFrame({\n",
    "    'actual': y_test,\n",
    "    'predicted': y_pred\n",
    "})"
   ]
  },
  {
   "cell_type": "code",
   "execution_count": 52,
   "id": "9ce2ca11",
   "metadata": {},
   "outputs": [
    {
     "data": {
      "text/html": [
       "<div>\n",
       "<style scoped>\n",
       "    .dataframe tbody tr th:only-of-type {\n",
       "        vertical-align: middle;\n",
       "    }\n",
       "\n",
       "    .dataframe tbody tr th {\n",
       "        vertical-align: top;\n",
       "    }\n",
       "\n",
       "    .dataframe thead th {\n",
       "        text-align: right;\n",
       "    }\n",
       "</style>\n",
       "<table border=\"1\" class=\"dataframe\">\n",
       "  <thead>\n",
       "    <tr style=\"text-align: right;\">\n",
       "      <th></th>\n",
       "      <th>actual</th>\n",
       "      <th>predicted</th>\n",
       "    </tr>\n",
       "  </thead>\n",
       "  <tbody>\n",
       "    <tr>\n",
       "      <th>132</th>\n",
       "      <td>0</td>\n",
       "      <td>0</td>\n",
       "    </tr>\n",
       "    <tr>\n",
       "      <th>309</th>\n",
       "      <td>0</td>\n",
       "      <td>0</td>\n",
       "    </tr>\n",
       "    <tr>\n",
       "      <th>341</th>\n",
       "      <td>0</td>\n",
       "      <td>0</td>\n",
       "    </tr>\n",
       "    <tr>\n",
       "      <th>196</th>\n",
       "      <td>0</td>\n",
       "      <td>0</td>\n",
       "    </tr>\n",
       "    <tr>\n",
       "      <th>246</th>\n",
       "      <td>0</td>\n",
       "      <td>0</td>\n",
       "    </tr>\n",
       "    <tr>\n",
       "      <th>...</th>\n",
       "      <td>...</td>\n",
       "      <td>...</td>\n",
       "    </tr>\n",
       "    <tr>\n",
       "      <th>146</th>\n",
       "      <td>1</td>\n",
       "      <td>0</td>\n",
       "    </tr>\n",
       "    <tr>\n",
       "      <th>135</th>\n",
       "      <td>0</td>\n",
       "      <td>0</td>\n",
       "    </tr>\n",
       "    <tr>\n",
       "      <th>390</th>\n",
       "      <td>1</td>\n",
       "      <td>0</td>\n",
       "    </tr>\n",
       "    <tr>\n",
       "      <th>264</th>\n",
       "      <td>1</td>\n",
       "      <td>1</td>\n",
       "    </tr>\n",
       "    <tr>\n",
       "      <th>364</th>\n",
       "      <td>1</td>\n",
       "      <td>1</td>\n",
       "    </tr>\n",
       "  </tbody>\n",
       "</table>\n",
       "<p>100 rows × 2 columns</p>\n",
       "</div>"
      ],
      "text/plain": [
       "     actual  predicted\n",
       "132       0          0\n",
       "309       0          0\n",
       "341       0          0\n",
       "196       0          0\n",
       "246       0          0\n",
       "..      ...        ...\n",
       "146       1          0\n",
       "135       0          0\n",
       "390       1          0\n",
       "264       1          1\n",
       "364       1          1\n",
       "\n",
       "[100 rows x 2 columns]"
      ]
     },
     "execution_count": 52,
     "metadata": {},
     "output_type": "execute_result"
    }
   ],
   "source": [
    "result"
   ]
  },
  {
   "cell_type": "code",
   "execution_count": 53,
   "id": "65f4775b",
   "metadata": {},
   "outputs": [],
   "source": [
    "from sklearn.metrics import ConfusionMatrixDisplay, accuracy_score\n",
    "from sklearn.metrics import classification_report, confusion_matrix"
   ]
  },
  {
   "cell_type": "code",
   "execution_count": 54,
   "id": "548e82c4",
   "metadata": {},
   "outputs": [],
   "source": [
    "cm = confusion_matrix(y_test, y_pred)"
   ]
  },
  {
   "cell_type": "code",
   "execution_count": 55,
   "id": "910a159d",
   "metadata": {},
   "outputs": [
    {
     "data": {
      "text/plain": [
       "array([[67,  1],\n",
       "       [10, 22]])"
      ]
     },
     "execution_count": 55,
     "metadata": {},
     "output_type": "execute_result"
    }
   ],
   "source": [
    "cm"
   ]
  },
  {
   "cell_type": "code",
   "execution_count": 56,
   "id": "7aedd826",
   "metadata": {},
   "outputs": [
    {
     "data": {
      "text/plain": [
       "<sklearn.metrics._plot.confusion_matrix.ConfusionMatrixDisplay at 0x7f0b28ea3700>"
      ]
     },
     "execution_count": 56,
     "metadata": {},
     "output_type": "execute_result"
    },
    {
     "data": {
      "image/png": "[encoded data removed]",
      "text/plain": [
       "<Figure size 432x288 with 2 Axes>"
      ]
     },
     "metadata": {
      "needs_background": "light"
     },
     "output_type": "display_data"
    }
   ],
   "source": [
    "ConfusionMatrixDisplay(cm, display_labels=[0,1]).plot()"
   ]
  },
  {
   "cell_type": "code",
   "execution_count": 57,
   "id": "298c7e15",
   "metadata": {},
   "outputs": [
    {
     "data": {
      "text/plain": [
       "0    68\n",
       "1    32\n",
       "Name: Purchased, dtype: int64"
      ]
     },
     "execution_count": 57,
     "metadata": {},
     "output_type": "execute_result"
    }
   ],
   "source": [
    "y_test.value_counts()"
   ]
  },
  {
   "cell_type": "code",
   "execution_count": 59,
   "id": "44cf4c11",
   "metadata": {},
   "outputs": [
    {
     "data": {
      "text/plain": [
       "0.89"
      ]
     },
     "execution_count": 59,
     "metadata": {},
     "output_type": "execute_result"
    }
   ],
   "source": [
    "accuracy_score(y_test, y_pred)"
   ]
  },
  {
   "cell_type": "code",
   "execution_count": null,
   "id": "0383af20",
   "metadata": {},
   "outputs": [],
   "source": []
  }
 ],
 "metadata": {
  "kernelspec": {
   "display_name": "Python 3",
   "language": "python",
   "name": "python3"
  },
  "language_info": {
   "codemirror_mode": {
    "name": "ipython",
    "version": 3
   },
   "file_extension": ".py",
   "mimetype": "text/x-python",
   "name": "python",
   "nbconvert_exporter": "python",
   "pygments_lexer": "ipython3",
   "version": "3.8.10"
  }
 },
 "nbformat": 4,
 "nbformat_minor": 5
}
