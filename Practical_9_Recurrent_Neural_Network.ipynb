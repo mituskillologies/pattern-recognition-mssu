{
  "nbformat": 4,
  "nbformat_minor": 0,
  "metadata": {
    "colab": {
      "provenance": []
    },
    "kernelspec": {
      "name": "python3",
      "display_name": "Python 3"
    },
    "language_info": {
      "name": "python"
    }
  },
  "cells": [
    {
      "cell_type": "markdown",
      "source": [
        "Write a program to perform the sequence modelling using Recurrent Neural Network."
      ],
      "metadata": {
        "id": "bT7lBUpNVCz2"
      }
    },
    {
      "cell_type": "code",
      "execution_count": null,
      "metadata": {
        "id": "M_ah1G6qU_EO"
      },
      "outputs": [],
      "source": [
        "# Input sequence data\n",
        "alphabets = 'ABCDEFGHIJKLMNOPQRSTUVWXYZ'"
      ]
    },
    {
      "cell_type": "code",
      "source": [
        "list(enumerate(alphabets))"
      ],
      "metadata": {
        "colab": {
          "base_uri": "https://localhost:8080/"
        },
        "id": "rnScwuAyVBQ0",
        "outputId": "30c9180a-9948-479f-c8b1-4cf283480c68"
      },
      "execution_count": null,
      "outputs": [
        {
          "output_type": "execute_result",
          "data": {
            "text/plain": [
              "[(0, 'A'),\n",
              " (1, 'B'),\n",
              " (2, 'C'),\n",
              " (3, 'D'),\n",
              " (4, 'E'),\n",
              " (5, 'F'),\n",
              " (6, 'G'),\n",
              " (7, 'H'),\n",
              " (8, 'I'),\n",
              " (9, 'J'),\n",
              " (10, 'K'),\n",
              " (11, 'L'),\n",
              " (12, 'M'),\n",
              " (13, 'N'),\n",
              " (14, 'O'),\n",
              " (15, 'P'),\n",
              " (16, 'Q'),\n",
              " (17, 'R'),\n",
              " (18, 'S'),\n",
              " (19, 'T'),\n",
              " (20, 'U'),\n",
              " (21, 'V'),\n",
              " (22, 'W'),\n",
              " (23, 'X'),\n",
              " (24, 'Y'),\n",
              " (25, 'Z')]"
            ]
          },
          "metadata": {},
          "execution_count": 3
        }
      ]
    },
    {
      "cell_type": "code",
      "source": [
        "int_to_char = dict((i,c) for i, c in enumerate(alphabets))"
      ],
      "metadata": {
        "id": "askdHSFlWvFH"
      },
      "execution_count": null,
      "outputs": []
    },
    {
      "cell_type": "code",
      "source": [
        "int_to_char"
      ],
      "metadata": {
        "colab": {
          "base_uri": "https://localhost:8080/"
        },
        "id": "MVNUaL7eXjas",
        "outputId": "40f9fbfa-7db0-4cb2-8a33-fc3785aedeeb"
      },
      "execution_count": null,
      "outputs": [
        {
          "output_type": "execute_result",
          "data": {
            "text/plain": [
              "{0: 'A',\n",
              " 1: 'B',\n",
              " 2: 'C',\n",
              " 3: 'D',\n",
              " 4: 'E',\n",
              " 5: 'F',\n",
              " 6: 'G',\n",
              " 7: 'H',\n",
              " 8: 'I',\n",
              " 9: 'J',\n",
              " 10: 'K',\n",
              " 11: 'L',\n",
              " 12: 'M',\n",
              " 13: 'N',\n",
              " 14: 'O',\n",
              " 15: 'P',\n",
              " 16: 'Q',\n",
              " 17: 'R',\n",
              " 18: 'S',\n",
              " 19: 'T',\n",
              " 20: 'U',\n",
              " 21: 'V',\n",
              " 22: 'W',\n",
              " 23: 'X',\n",
              " 24: 'Y',\n",
              " 25: 'Z'}"
            ]
          },
          "metadata": {},
          "execution_count": 5
        }
      ]
    },
    {
      "cell_type": "code",
      "source": [
        "char_to_int = dict((c,i) for i, c in enumerate(alphabets))"
      ],
      "metadata": {
        "id": "SoU7K8DtXlfZ"
      },
      "execution_count": null,
      "outputs": []
    },
    {
      "cell_type": "code",
      "source": [
        "char_to_int"
      ],
      "metadata": {
        "colab": {
          "base_uri": "https://localhost:8080/"
        },
        "id": "s-a4TRpxYy2n",
        "outputId": "fb5134a1-6e6e-4c59-adeb-f9cea4a91c0c"
      },
      "execution_count": null,
      "outputs": [
        {
          "output_type": "execute_result",
          "data": {
            "text/plain": [
              "{'A': 0,\n",
              " 'B': 1,\n",
              " 'C': 2,\n",
              " 'D': 3,\n",
              " 'E': 4,\n",
              " 'F': 5,\n",
              " 'G': 6,\n",
              " 'H': 7,\n",
              " 'I': 8,\n",
              " 'J': 9,\n",
              " 'K': 10,\n",
              " 'L': 11,\n",
              " 'M': 12,\n",
              " 'N': 13,\n",
              " 'O': 14,\n",
              " 'P': 15,\n",
              " 'Q': 16,\n",
              " 'R': 17,\n",
              " 'S': 18,\n",
              " 'T': 19,\n",
              " 'U': 20,\n",
              " 'V': 21,\n",
              " 'W': 22,\n",
              " 'X': 23,\n",
              " 'Y': 24,\n",
              " 'Z': 25}"
            ]
          },
          "metadata": {},
          "execution_count": 7
        }
      ]
    },
    {
      "cell_type": "code",
      "source": [
        "seq_length = 1"
      ],
      "metadata": {
        "id": "bLesnTStY0M2"
      },
      "execution_count": null,
      "outputs": []
    },
    {
      "cell_type": "code",
      "source": [
        "# input data\n",
        "x = []\n",
        "\n",
        "# output data\n",
        "y = []\n",
        "\n",
        "for i in range(len(alphabets) - seq_length):\n",
        "  seq_in = alphabets[i:i + seq_length]\n",
        "  seq_out = alphabets[i + seq_length]\n",
        "  x.append([char_to_int[char] for char in seq_in])\n",
        "  y.append(char_to_int[seq_out])\n",
        "  print(seq_in,'->',seq_out)"
      ],
      "metadata": {
        "colab": {
          "base_uri": "https://localhost:8080/"
        },
        "id": "9cbKbTOvZZ3S",
        "outputId": "d6861812-64e4-4d4b-b8e2-f701ff21bbff"
      },
      "execution_count": null,
      "outputs": [
        {
          "output_type": "stream",
          "name": "stdout",
          "text": [
            "A -> B\n",
            "B -> C\n",
            "C -> D\n",
            "D -> E\n",
            "E -> F\n",
            "F -> G\n",
            "G -> H\n",
            "H -> I\n",
            "I -> J\n",
            "J -> K\n",
            "K -> L\n",
            "L -> M\n",
            "M -> N\n",
            "N -> O\n",
            "O -> P\n",
            "P -> Q\n",
            "Q -> R\n",
            "R -> S\n",
            "S -> T\n",
            "T -> U\n",
            "U -> V\n",
            "V -> W\n",
            "W -> X\n",
            "X -> Y\n",
            "Y -> Z\n"
          ]
        }
      ]
    },
    {
      "cell_type": "code",
      "source": [
        "x"
      ],
      "metadata": {
        "colab": {
          "base_uri": "https://localhost:8080/"
        },
        "id": "tPgNshimZzxV",
        "outputId": "0daf0504-5685-44d2-f104-2e92bb91d4f0"
      },
      "execution_count": null,
      "outputs": [
        {
          "output_type": "execute_result",
          "data": {
            "text/plain": [
              "[[0],\n",
              " [1],\n",
              " [2],\n",
              " [3],\n",
              " [4],\n",
              " [5],\n",
              " [6],\n",
              " [7],\n",
              " [8],\n",
              " [9],\n",
              " [10],\n",
              " [11],\n",
              " [12],\n",
              " [13],\n",
              " [14],\n",
              " [15],\n",
              " [16],\n",
              " [17],\n",
              " [18],\n",
              " [19],\n",
              " [20],\n",
              " [21],\n",
              " [22],\n",
              " [23],\n",
              " [24]]"
            ]
          },
          "metadata": {},
          "execution_count": 14
        }
      ]
    },
    {
      "cell_type": "code",
      "source": [
        "y"
      ],
      "metadata": {
        "colab": {
          "base_uri": "https://localhost:8080/"
        },
        "id": "qiItw5AteM0L",
        "outputId": "7d31d35d-0136-498e-c93b-994a3fa47afd"
      },
      "execution_count": null,
      "outputs": [
        {
          "output_type": "execute_result",
          "data": {
            "text/plain": [
              "[1,\n",
              " 2,\n",
              " 3,\n",
              " 4,\n",
              " 5,\n",
              " 6,\n",
              " 7,\n",
              " 8,\n",
              " 9,\n",
              " 10,\n",
              " 11,\n",
              " 12,\n",
              " 13,\n",
              " 14,\n",
              " 15,\n",
              " 16,\n",
              " 17,\n",
              " 18,\n",
              " 19,\n",
              " 20,\n",
              " 21,\n",
              " 22,\n",
              " 23,\n",
              " 24,\n",
              " 25]"
            ]
          },
          "metadata": {},
          "execution_count": 15
        }
      ]
    },
    {
      "cell_type": "code",
      "source": [
        "import numpy as np"
      ],
      "metadata": {
        "id": "de-_z6QqeRy2"
      },
      "execution_count": null,
      "outputs": []
    },
    {
      "cell_type": "code",
      "source": [
        "x = np.reshape(x, (len(x), seq_length, 1))"
      ],
      "metadata": {
        "id": "k2oIs9kFeflR"
      },
      "execution_count": null,
      "outputs": []
    },
    {
      "cell_type": "code",
      "source": [
        "x.shape"
      ],
      "metadata": {
        "colab": {
          "base_uri": "https://localhost:8080/"
        },
        "id": "6xrMqKUEepR5",
        "outputId": "78d272a1-72c6-4a58-8d54-cd4a613d6778"
      },
      "execution_count": null,
      "outputs": [
        {
          "output_type": "execute_result",
          "data": {
            "text/plain": [
              "(25, 1, 1)"
            ]
          },
          "metadata": {},
          "execution_count": 19
        }
      ]
    },
    {
      "cell_type": "code",
      "source": [
        "x"
      ],
      "metadata": {
        "colab": {
          "base_uri": "https://localhost:8080/"
        },
        "id": "YkBwJQORept5",
        "outputId": "a9bed219-3782-42f1-e644-0a0ab6195e4a"
      },
      "execution_count": null,
      "outputs": [
        {
          "output_type": "execute_result",
          "data": {
            "text/plain": [
              "array([[[ 0]],\n",
              "\n",
              "       [[ 1]],\n",
              "\n",
              "       [[ 2]],\n",
              "\n",
              "       [[ 3]],\n",
              "\n",
              "       [[ 4]],\n",
              "\n",
              "       [[ 5]],\n",
              "\n",
              "       [[ 6]],\n",
              "\n",
              "       [[ 7]],\n",
              "\n",
              "       [[ 8]],\n",
              "\n",
              "       [[ 9]],\n",
              "\n",
              "       [[10]],\n",
              "\n",
              "       [[11]],\n",
              "\n",
              "       [[12]],\n",
              "\n",
              "       [[13]],\n",
              "\n",
              "       [[14]],\n",
              "\n",
              "       [[15]],\n",
              "\n",
              "       [[16]],\n",
              "\n",
              "       [[17]],\n",
              "\n",
              "       [[18]],\n",
              "\n",
              "       [[19]],\n",
              "\n",
              "       [[20]],\n",
              "\n",
              "       [[21]],\n",
              "\n",
              "       [[22]],\n",
              "\n",
              "       [[23]],\n",
              "\n",
              "       [[24]]])"
            ]
          },
          "metadata": {},
          "execution_count": 20
        }
      ]
    },
    {
      "cell_type": "markdown",
      "source": [
        "Normalize the data"
      ],
      "metadata": {
        "id": "ctwR4INyfynR"
      }
    },
    {
      "cell_type": "code",
      "source": [
        "x = x / len(alphabets)"
      ],
      "metadata": {
        "id": "UY4I43lEf0KZ"
      },
      "execution_count": null,
      "outputs": []
    },
    {
      "cell_type": "code",
      "source": [
        "x"
      ],
      "metadata": {
        "colab": {
          "base_uri": "https://localhost:8080/"
        },
        "id": "Z6ApsJkWf3Zz",
        "outputId": "482b7f4e-60fb-43f3-ca0c-18a23949595e"
      },
      "execution_count": null,
      "outputs": [
        {
          "output_type": "execute_result",
          "data": {
            "text/plain": [
              "array([[[0.        ]],\n",
              "\n",
              "       [[0.03846154]],\n",
              "\n",
              "       [[0.07692308]],\n",
              "\n",
              "       [[0.11538462]],\n",
              "\n",
              "       [[0.15384615]],\n",
              "\n",
              "       [[0.19230769]],\n",
              "\n",
              "       [[0.23076923]],\n",
              "\n",
              "       [[0.26923077]],\n",
              "\n",
              "       [[0.30769231]],\n",
              "\n",
              "       [[0.34615385]],\n",
              "\n",
              "       [[0.38461538]],\n",
              "\n",
              "       [[0.42307692]],\n",
              "\n",
              "       [[0.46153846]],\n",
              "\n",
              "       [[0.5       ]],\n",
              "\n",
              "       [[0.53846154]],\n",
              "\n",
              "       [[0.57692308]],\n",
              "\n",
              "       [[0.61538462]],\n",
              "\n",
              "       [[0.65384615]],\n",
              "\n",
              "       [[0.69230769]],\n",
              "\n",
              "       [[0.73076923]],\n",
              "\n",
              "       [[0.76923077]],\n",
              "\n",
              "       [[0.80769231]],\n",
              "\n",
              "       [[0.84615385]],\n",
              "\n",
              "       [[0.88461538]],\n",
              "\n",
              "       [[0.92307692]]])"
            ]
          },
          "metadata": {},
          "execution_count": 22
        }
      ]
    },
    {
      "cell_type": "markdown",
      "source": [
        "One - hot encoding"
      ],
      "metadata": {
        "id": "aloseCVCgkam"
      }
    },
    {
      "cell_type": "code",
      "source": [
        "from keras.utils import to_categorical"
      ],
      "metadata": {
        "id": "PTVGX9Usf4WT"
      },
      "execution_count": null,
      "outputs": []
    },
    {
      "cell_type": "code",
      "source": [
        "k = [2,3,1,2,2,1,0,1,3]"
      ],
      "metadata": {
        "id": "Az_xuX4XgwoZ"
      },
      "execution_count": null,
      "outputs": []
    },
    {
      "cell_type": "code",
      "source": [
        "to_categorical(k)"
      ],
      "metadata": {
        "colab": {
          "base_uri": "https://localhost:8080/"
        },
        "id": "aTPtA6Rjg3le",
        "outputId": "ab422185-ae5a-4544-a323-c3b325ab5723"
      },
      "execution_count": null,
      "outputs": [
        {
          "output_type": "execute_result",
          "data": {
            "text/plain": [
              "array([[0., 0., 1., 0.],\n",
              "       [0., 0., 0., 1.],\n",
              "       [0., 1., 0., 0.],\n",
              "       [0., 0., 1., 0.],\n",
              "       [0., 0., 1., 0.],\n",
              "       [0., 1., 0., 0.],\n",
              "       [1., 0., 0., 0.],\n",
              "       [0., 1., 0., 0.],\n",
              "       [0., 0., 0., 1.]], dtype=float32)"
            ]
          },
          "metadata": {},
          "execution_count": 25
        }
      ]
    },
    {
      "cell_type": "code",
      "source": [
        "y = to_categorical(y)"
      ],
      "metadata": {
        "id": "X1uTlSMIg5-8"
      },
      "execution_count": null,
      "outputs": []
    },
    {
      "cell_type": "code",
      "source": [
        "y"
      ],
      "metadata": {
        "colab": {
          "base_uri": "https://localhost:8080/"
        },
        "id": "JRmRB5wclMWS",
        "outputId": "0f54c86c-4de7-4ec5-e161-8d98d21d65e4"
      },
      "execution_count": null,
      "outputs": [
        {
          "output_type": "execute_result",
          "data": {
            "text/plain": [
              "array([[0., 1., 0., 0., 0., 0., 0., 0., 0., 0., 0., 0., 0., 0., 0., 0.,\n",
              "        0., 0., 0., 0., 0., 0., 0., 0., 0., 0.],\n",
              "       [0., 0., 1., 0., 0., 0., 0., 0., 0., 0., 0., 0., 0., 0., 0., 0.,\n",
              "        0., 0., 0., 0., 0., 0., 0., 0., 0., 0.],\n",
              "       [0., 0., 0., 1., 0., 0., 0., 0., 0., 0., 0., 0., 0., 0., 0., 0.,\n",
              "        0., 0., 0., 0., 0., 0., 0., 0., 0., 0.],\n",
              "       [0., 0., 0., 0., 1., 0., 0., 0., 0., 0., 0., 0., 0., 0., 0., 0.,\n",
              "        0., 0., 0., 0., 0., 0., 0., 0., 0., 0.],\n",
              "       [0., 0., 0., 0., 0., 1., 0., 0., 0., 0., 0., 0., 0., 0., 0., 0.,\n",
              "        0., 0., 0., 0., 0., 0., 0., 0., 0., 0.],\n",
              "       [0., 0., 0., 0., 0., 0., 1., 0., 0., 0., 0., 0., 0., 0., 0., 0.,\n",
              "        0., 0., 0., 0., 0., 0., 0., 0., 0., 0.],\n",
              "       [0., 0., 0., 0., 0., 0., 0., 1., 0., 0., 0., 0., 0., 0., 0., 0.,\n",
              "        0., 0., 0., 0., 0., 0., 0., 0., 0., 0.],\n",
              "       [0., 0., 0., 0., 0., 0., 0., 0., 1., 0., 0., 0., 0., 0., 0., 0.,\n",
              "        0., 0., 0., 0., 0., 0., 0., 0., 0., 0.],\n",
              "       [0., 0., 0., 0., 0., 0., 0., 0., 0., 1., 0., 0., 0., 0., 0., 0.,\n",
              "        0., 0., 0., 0., 0., 0., 0., 0., 0., 0.],\n",
              "       [0., 0., 0., 0., 0., 0., 0., 0., 0., 0., 1., 0., 0., 0., 0., 0.,\n",
              "        0., 0., 0., 0., 0., 0., 0., 0., 0., 0.],\n",
              "       [0., 0., 0., 0., 0., 0., 0., 0., 0., 0., 0., 1., 0., 0., 0., 0.,\n",
              "        0., 0., 0., 0., 0., 0., 0., 0., 0., 0.],\n",
              "       [0., 0., 0., 0., 0., 0., 0., 0., 0., 0., 0., 0., 1., 0., 0., 0.,\n",
              "        0., 0., 0., 0., 0., 0., 0., 0., 0., 0.],\n",
              "       [0., 0., 0., 0., 0., 0., 0., 0., 0., 0., 0., 0., 0., 1., 0., 0.,\n",
              "        0., 0., 0., 0., 0., 0., 0., 0., 0., 0.],\n",
              "       [0., 0., 0., 0., 0., 0., 0., 0., 0., 0., 0., 0., 0., 0., 1., 0.,\n",
              "        0., 0., 0., 0., 0., 0., 0., 0., 0., 0.],\n",
              "       [0., 0., 0., 0., 0., 0., 0., 0., 0., 0., 0., 0., 0., 0., 0., 1.,\n",
              "        0., 0., 0., 0., 0., 0., 0., 0., 0., 0.],\n",
              "       [0., 0., 0., 0., 0., 0., 0., 0., 0., 0., 0., 0., 0., 0., 0., 0.,\n",
              "        1., 0., 0., 0., 0., 0., 0., 0., 0., 0.],\n",
              "       [0., 0., 0., 0., 0., 0., 0., 0., 0., 0., 0., 0., 0., 0., 0., 0.,\n",
              "        0., 1., 0., 0., 0., 0., 0., 0., 0., 0.],\n",
              "       [0., 0., 0., 0., 0., 0., 0., 0., 0., 0., 0., 0., 0., 0., 0., 0.,\n",
              "        0., 0., 1., 0., 0., 0., 0., 0., 0., 0.],\n",
              "       [0., 0., 0., 0., 0., 0., 0., 0., 0., 0., 0., 0., 0., 0., 0., 0.,\n",
              "        0., 0., 0., 1., 0., 0., 0., 0., 0., 0.],\n",
              "       [0., 0., 0., 0., 0., 0., 0., 0., 0., 0., 0., 0., 0., 0., 0., 0.,\n",
              "        0., 0., 0., 0., 1., 0., 0., 0., 0., 0.],\n",
              "       [0., 0., 0., 0., 0., 0., 0., 0., 0., 0., 0., 0., 0., 0., 0., 0.,\n",
              "        0., 0., 0., 0., 0., 1., 0., 0., 0., 0.],\n",
              "       [0., 0., 0., 0., 0., 0., 0., 0., 0., 0., 0., 0., 0., 0., 0., 0.,\n",
              "        0., 0., 0., 0., 0., 0., 1., 0., 0., 0.],\n",
              "       [0., 0., 0., 0., 0., 0., 0., 0., 0., 0., 0., 0., 0., 0., 0., 0.,\n",
              "        0., 0., 0., 0., 0., 0., 0., 1., 0., 0.],\n",
              "       [0., 0., 0., 0., 0., 0., 0., 0., 0., 0., 0., 0., 0., 0., 0., 0.,\n",
              "        0., 0., 0., 0., 0., 0., 0., 0., 1., 0.],\n",
              "       [0., 0., 0., 0., 0., 0., 0., 0., 0., 0., 0., 0., 0., 0., 0., 0.,\n",
              "        0., 0., 0., 0., 0., 0., 0., 0., 0., 1.]], dtype=float32)"
            ]
          },
          "metadata": {},
          "execution_count": 27
        }
      ]
    },
    {
      "cell_type": "code",
      "source": [
        "y.shape"
      ],
      "metadata": {
        "colab": {
          "base_uri": "https://localhost:8080/"
        },
        "id": "sbjC9dvzlMsI",
        "outputId": "eb8899b0-99b4-4453-9537-2a3c6f4a32a8"
      },
      "execution_count": null,
      "outputs": [
        {
          "output_type": "execute_result",
          "data": {
            "text/plain": [
              "(25, 26)"
            ]
          },
          "metadata": {},
          "execution_count": 28
        }
      ]
    },
    {
      "cell_type": "code",
      "source": [
        "x.shape"
      ],
      "metadata": {
        "colab": {
          "base_uri": "https://localhost:8080/"
        },
        "id": "N34-Mzk0lxe0",
        "outputId": "5bee6f30-299b-402d-ed62-de9b36993a94"
      },
      "execution_count": null,
      "outputs": [
        {
          "output_type": "execute_result",
          "data": {
            "text/plain": [
              "(25, 1, 1)"
            ]
          },
          "metadata": {},
          "execution_count": 29
        }
      ]
    },
    {
      "cell_type": "markdown",
      "source": [
        "Import the Neural Network Classes"
      ],
      "metadata": {
        "id": "BLqfFx8rmUJm"
      }
    },
    {
      "cell_type": "code",
      "source": [
        "from keras.models import Sequential\n",
        "from keras.layers import Dense, LSTM"
      ],
      "metadata": {
        "id": "1rn68ZnEl2Cy"
      },
      "execution_count": null,
      "outputs": []
    },
    {
      "cell_type": "markdown",
      "source": [
        "Build the RNN Model"
      ],
      "metadata": {
        "id": "emlz3QEnm3jq"
      }
    },
    {
      "cell_type": "code",
      "source": [
        "model = Sequential()\n",
        "\n",
        "# Add the LSTM Layer\n",
        "model.add(LSTM(32, input_shape=(x.shape[1], x.shape[2])))\n",
        "\n",
        "# Add the output layer\n",
        "model.add(Dense(26, activation='softmax'))"
      ],
      "metadata": {
        "id": "yv-dqqsvmcLZ"
      },
      "execution_count": null,
      "outputs": []
    },
    {
      "cell_type": "code",
      "source": [
        "model.summary()"
      ],
      "metadata": {
        "colab": {
          "base_uri": "https://localhost:8080/"
        },
        "id": "Poly0V5anJCL",
        "outputId": "8e5c04cb-63b0-4a8d-9187-7d22a6a1353c"
      },
      "execution_count": null,
      "outputs": [
        {
          "output_type": "stream",
          "name": "stdout",
          "text": [
            "Model: \"sequential_1\"\n",
            "_________________________________________________________________\n",
            " Layer (type)                Output Shape              Param #   \n",
            "=================================================================\n",
            " lstm_1 (LSTM)               (None, 32)                4352      \n",
            "                                                                 \n",
            " dense (Dense)               (None, 26)                858       \n",
            "                                                                 \n",
            "=================================================================\n",
            "Total params: 5,210\n",
            "Trainable params: 5,210\n",
            "Non-trainable params: 0\n",
            "_________________________________________________________________\n"
          ]
        }
      ]
    },
    {
      "cell_type": "markdown",
      "source": [
        "Compile the model"
      ],
      "metadata": {
        "id": "-25f8gzRoK5f"
      }
    },
    {
      "cell_type": "code",
      "source": [
        "model.compile(loss='categorical_crossentropy', optimizer='adam',\n",
        "              metrics=['accuracy'])"
      ],
      "metadata": {
        "id": "4x6edXsBnrJ_"
      },
      "execution_count": null,
      "outputs": []
    },
    {
      "cell_type": "markdown",
      "source": [
        "Train the model"
      ],
      "metadata": {
        "id": "3b9-zqhVo6cu"
      }
    },
    {
      "cell_type": "code",
      "source": [
        "model.fit(x, y, epochs=500, batch_size=1)"
      ],
      "metadata": {
        "colab": {
          "base_uri": "https://localhost:8080/"
        },
        "id": "sJ5vEbkmoXcb",
        "outputId": "5b3d84bc-d821-4602-badd-e03b55fbf311"
      },
      "execution_count": null,
      "outputs": [
        {
          "output_type": "stream",
          "name": "stdout",
          "text": [
            "Epoch 1/500\n",
            "25/25 [==============================] - 0s 3ms/step - loss: 1.7455 - accuracy: 0.8000\n",
            "Epoch 2/500\n",
            "25/25 [==============================] - 0s 3ms/step - loss: 1.7470 - accuracy: 0.7200\n",
            "Epoch 3/500\n",
            "25/25 [==============================] - 0s 3ms/step - loss: 1.7458 - accuracy: 0.8000\n",
            "Epoch 4/500\n",
            "25/25 [==============================] - 0s 3ms/step - loss: 1.7435 - accuracy: 0.8000\n",
            "Epoch 5/500\n",
            "25/25 [==============================] - 0s 3ms/step - loss: 1.7460 - accuracy: 0.7600\n",
            "Epoch 6/500\n",
            "25/25 [==============================] - 0s 3ms/step - loss: 1.7425 - accuracy: 0.8000\n",
            "Epoch 7/500\n",
            "25/25 [==============================] - 0s 3ms/step - loss: 1.7422 - accuracy: 0.7200\n",
            "Epoch 8/500\n",
            "25/25 [==============================] - 0s 3ms/step - loss: 1.7379 - accuracy: 0.7200\n",
            "Epoch 9/500\n",
            "25/25 [==============================] - 0s 3ms/step - loss: 1.7392 - accuracy: 0.8000\n",
            "Epoch 10/500\n",
            "25/25 [==============================] - 0s 3ms/step - loss: 1.7379 - accuracy: 0.8000\n",
            "Epoch 11/500\n",
            "25/25 [==============================] - 0s 3ms/step - loss: 1.7379 - accuracy: 0.7200\n",
            "Epoch 12/500\n",
            "25/25 [==============================] - 0s 3ms/step - loss: 1.7361 - accuracy: 0.8000\n",
            "Epoch 13/500\n",
            "25/25 [==============================] - 0s 3ms/step - loss: 1.7341 - accuracy: 0.7200\n",
            "Epoch 14/500\n",
            "25/25 [==============================] - 0s 3ms/step - loss: 1.7357 - accuracy: 0.8000\n",
            "Epoch 15/500\n",
            "25/25 [==============================] - 0s 3ms/step - loss: 1.7329 - accuracy: 0.7600\n",
            "Epoch 16/500\n",
            "25/25 [==============================] - 0s 3ms/step - loss: 1.7334 - accuracy: 0.7600\n",
            "Epoch 17/500\n",
            "25/25 [==============================] - 0s 3ms/step - loss: 1.7314 - accuracy: 0.7200\n",
            "Epoch 18/500\n",
            "25/25 [==============================] - 0s 3ms/step - loss: 1.7287 - accuracy: 0.7600\n",
            "Epoch 19/500\n",
            "25/25 [==============================] - 0s 3ms/step - loss: 1.7298 - accuracy: 0.8000\n",
            "Epoch 20/500\n",
            "25/25 [==============================] - 0s 3ms/step - loss: 1.7302 - accuracy: 0.7600\n",
            "Epoch 21/500\n",
            "25/25 [==============================] - 0s 3ms/step - loss: 1.7315 - accuracy: 0.7600\n",
            "Epoch 22/500\n",
            "25/25 [==============================] - 0s 3ms/step - loss: 1.7276 - accuracy: 0.8000\n",
            "Epoch 23/500\n",
            "25/25 [==============================] - 0s 3ms/step - loss: 1.7265 - accuracy: 0.8000\n",
            "Epoch 24/500\n",
            "25/25 [==============================] - 0s 3ms/step - loss: 1.7259 - accuracy: 0.7600\n",
            "Epoch 25/500\n",
            "25/25 [==============================] - 0s 3ms/step - loss: 1.7248 - accuracy: 0.8000\n",
            "Epoch 26/500\n",
            "25/25 [==============================] - 0s 3ms/step - loss: 1.7239 - accuracy: 0.7600\n",
            "Epoch 27/500\n",
            "25/25 [==============================] - 0s 3ms/step - loss: 1.7241 - accuracy: 0.7600\n",
            "Epoch 28/500\n",
            "25/25 [==============================] - 0s 3ms/step - loss: 1.7236 - accuracy: 0.7200\n",
            "Epoch 29/500\n",
            "25/25 [==============================] - 0s 3ms/step - loss: 1.7230 - accuracy: 0.7600\n",
            "Epoch 30/500\n",
            "25/25 [==============================] - 0s 3ms/step - loss: 1.7217 - accuracy: 0.6800\n",
            "Epoch 31/500\n",
            "25/25 [==============================] - 0s 3ms/step - loss: 1.7207 - accuracy: 0.8000\n",
            "Epoch 32/500\n",
            "25/25 [==============================] - 0s 3ms/step - loss: 1.7181 - accuracy: 0.7600\n",
            "Epoch 33/500\n",
            "25/25 [==============================] - 0s 3ms/step - loss: 1.7207 - accuracy: 0.7600\n",
            "Epoch 34/500\n",
            "25/25 [==============================] - 0s 3ms/step - loss: 1.7185 - accuracy: 0.7600\n",
            "Epoch 35/500\n",
            "25/25 [==============================] - 0s 3ms/step - loss: 1.7159 - accuracy: 0.8000\n",
            "Epoch 36/500\n",
            "25/25 [==============================] - 0s 3ms/step - loss: 1.7142 - accuracy: 0.8000\n",
            "Epoch 37/500\n",
            "25/25 [==============================] - 0s 3ms/step - loss: 1.7129 - accuracy: 0.8000\n",
            "Epoch 38/500\n",
            "25/25 [==============================] - 0s 3ms/step - loss: 1.7123 - accuracy: 0.8000\n",
            "Epoch 39/500\n",
            "25/25 [==============================] - 0s 3ms/step - loss: 1.7112 - accuracy: 0.7600\n",
            "Epoch 40/500\n",
            "25/25 [==============================] - 0s 3ms/step - loss: 1.7119 - accuracy: 0.7600\n",
            "Epoch 41/500\n",
            "25/25 [==============================] - 0s 2ms/step - loss: 1.7109 - accuracy: 0.7600\n",
            "Epoch 42/500\n",
            "25/25 [==============================] - 0s 3ms/step - loss: 1.7104 - accuracy: 0.7600\n",
            "Epoch 43/500\n",
            "25/25 [==============================] - 0s 3ms/step - loss: 1.7096 - accuracy: 0.7600\n",
            "Epoch 44/500\n",
            "25/25 [==============================] - 0s 3ms/step - loss: 1.7086 - accuracy: 0.7600\n",
            "Epoch 45/500\n",
            "25/25 [==============================] - 0s 3ms/step - loss: 1.7086 - accuracy: 0.7600\n",
            "Epoch 46/500\n",
            "25/25 [==============================] - 0s 3ms/step - loss: 1.7072 - accuracy: 0.8000\n",
            "Epoch 47/500\n",
            "25/25 [==============================] - 0s 3ms/step - loss: 1.7069 - accuracy: 0.6800\n",
            "Epoch 48/500\n",
            "25/25 [==============================] - 0s 3ms/step - loss: 1.7061 - accuracy: 0.7600\n",
            "Epoch 49/500\n",
            "25/25 [==============================] - 0s 3ms/step - loss: 1.7041 - accuracy: 0.8000\n",
            "Epoch 50/500\n",
            "25/25 [==============================] - 0s 3ms/step - loss: 1.7042 - accuracy: 0.7600\n",
            "Epoch 51/500\n",
            "25/25 [==============================] - 0s 3ms/step - loss: 1.6995 - accuracy: 0.8000\n",
            "Epoch 52/500\n",
            "25/25 [==============================] - 0s 3ms/step - loss: 1.6994 - accuracy: 0.7200\n",
            "Epoch 53/500\n",
            "25/25 [==============================] - 0s 3ms/step - loss: 1.7017 - accuracy: 0.7600\n",
            "Epoch 54/500\n",
            "25/25 [==============================] - 0s 3ms/step - loss: 1.7004 - accuracy: 0.8400\n",
            "Epoch 55/500\n",
            "25/25 [==============================] - 0s 4ms/step - loss: 1.6993 - accuracy: 0.8000\n",
            "Epoch 56/500\n",
            "25/25 [==============================] - 0s 4ms/step - loss: 1.6983 - accuracy: 0.8000\n",
            "Epoch 57/500\n",
            "25/25 [==============================] - 0s 4ms/step - loss: 1.6981 - accuracy: 0.8000\n",
            "Epoch 58/500\n",
            "25/25 [==============================] - 0s 4ms/step - loss: 1.6954 - accuracy: 0.8000\n",
            "Epoch 59/500\n",
            "25/25 [==============================] - 0s 4ms/step - loss: 1.6971 - accuracy: 0.7600\n",
            "Epoch 60/500\n",
            "25/25 [==============================] - 0s 4ms/step - loss: 1.6929 - accuracy: 0.8000\n",
            "Epoch 61/500\n",
            "25/25 [==============================] - 0s 4ms/step - loss: 1.6945 - accuracy: 0.7200\n",
            "Epoch 62/500\n",
            "25/25 [==============================] - 0s 4ms/step - loss: 1.6929 - accuracy: 0.8000\n",
            "Epoch 63/500\n",
            "25/25 [==============================] - 0s 4ms/step - loss: 1.6918 - accuracy: 0.8000\n",
            "Epoch 64/500\n",
            "25/25 [==============================] - 0s 4ms/step - loss: 1.6920 - accuracy: 0.7600\n",
            "Epoch 65/500\n",
            "25/25 [==============================] - 0s 4ms/step - loss: 1.6912 - accuracy: 0.8000\n",
            "Epoch 66/500\n",
            "25/25 [==============================] - 0s 4ms/step - loss: 1.6905 - accuracy: 0.8000\n",
            "Epoch 67/500\n",
            "25/25 [==============================] - 0s 4ms/step - loss: 1.6892 - accuracy: 0.8000\n",
            "Epoch 68/500\n",
            "25/25 [==============================] - 0s 4ms/step - loss: 1.6874 - accuracy: 0.8000\n",
            "Epoch 69/500\n",
            "25/25 [==============================] - 0s 4ms/step - loss: 1.6891 - accuracy: 0.8400\n",
            "Epoch 70/500\n",
            "25/25 [==============================] - 0s 4ms/step - loss: 1.6862 - accuracy: 0.8000\n",
            "Epoch 71/500\n",
            "25/25 [==============================] - 0s 5ms/step - loss: 1.6854 - accuracy: 0.8000\n",
            "Epoch 72/500\n",
            "25/25 [==============================] - 0s 4ms/step - loss: 1.6839 - accuracy: 0.8000\n",
            "Epoch 73/500\n",
            "25/25 [==============================] - 0s 4ms/step - loss: 1.6834 - accuracy: 0.8000\n",
            "Epoch 74/500\n",
            "25/25 [==============================] - 0s 4ms/step - loss: 1.6829 - accuracy: 0.8000\n",
            "Epoch 75/500\n",
            "25/25 [==============================] - 0s 4ms/step - loss: 1.6822 - accuracy: 0.7600\n",
            "Epoch 76/500\n",
            "25/25 [==============================] - 0s 4ms/step - loss: 1.6833 - accuracy: 0.7600\n",
            "Epoch 77/500\n",
            "25/25 [==============================] - 0s 4ms/step - loss: 1.6794 - accuracy: 0.7200\n",
            "Epoch 78/500\n",
            "25/25 [==============================] - 0s 4ms/step - loss: 1.6799 - accuracy: 0.7600\n",
            "Epoch 79/500\n",
            "25/25 [==============================] - 0s 5ms/step - loss: 1.6773 - accuracy: 0.8000\n",
            "Epoch 80/500\n",
            "25/25 [==============================] - 0s 5ms/step - loss: 1.6781 - accuracy: 0.8400\n",
            "Epoch 81/500\n",
            "25/25 [==============================] - 0s 4ms/step - loss: 1.6777 - accuracy: 0.8000\n",
            "Epoch 82/500\n",
            "25/25 [==============================] - 0s 3ms/step - loss: 1.6778 - accuracy: 0.8000\n",
            "Epoch 83/500\n",
            "25/25 [==============================] - 0s 3ms/step - loss: 1.6761 - accuracy: 0.8000\n",
            "Epoch 84/500\n",
            "25/25 [==============================] - 0s 3ms/step - loss: 1.6747 - accuracy: 0.8800\n",
            "Epoch 85/500\n",
            "25/25 [==============================] - 0s 3ms/step - loss: 1.6742 - accuracy: 0.8800\n",
            "Epoch 86/500\n",
            "25/25 [==============================] - 0s 3ms/step - loss: 1.6729 - accuracy: 0.8400\n",
            "Epoch 87/500\n",
            "25/25 [==============================] - 0s 3ms/step - loss: 1.6707 - accuracy: 0.8000\n",
            "Epoch 88/500\n",
            "25/25 [==============================] - 0s 3ms/step - loss: 1.6739 - accuracy: 0.8400\n",
            "Epoch 89/500\n",
            "25/25 [==============================] - 0s 3ms/step - loss: 1.6718 - accuracy: 0.8400\n",
            "Epoch 90/500\n",
            "25/25 [==============================] - 0s 3ms/step - loss: 1.6684 - accuracy: 0.8800\n",
            "Epoch 91/500\n",
            "25/25 [==============================] - 0s 3ms/step - loss: 1.6695 - accuracy: 0.8400\n",
            "Epoch 92/500\n",
            "25/25 [==============================] - 0s 3ms/step - loss: 1.6687 - accuracy: 0.8400\n",
            "Epoch 93/500\n",
            "25/25 [==============================] - 0s 3ms/step - loss: 1.6685 - accuracy: 0.8400\n",
            "Epoch 94/500\n",
            "25/25 [==============================] - 0s 3ms/step - loss: 1.6680 - accuracy: 0.7200\n",
            "Epoch 95/500\n",
            "25/25 [==============================] - 0s 3ms/step - loss: 1.6668 - accuracy: 0.8000\n",
            "Epoch 96/500\n",
            "25/25 [==============================] - 0s 3ms/step - loss: 1.6677 - accuracy: 0.8800\n",
            "Epoch 97/500\n",
            "25/25 [==============================] - 0s 3ms/step - loss: 1.6645 - accuracy: 0.8800\n",
            "Epoch 98/500\n",
            "25/25 [==============================] - 0s 3ms/step - loss: 1.6649 - accuracy: 0.8000\n",
            "Epoch 99/500\n",
            "25/25 [==============================] - 0s 3ms/step - loss: 1.6650 - accuracy: 0.8400\n",
            "Epoch 100/500\n",
            "25/25 [==============================] - 0s 3ms/step - loss: 1.6632 - accuracy: 0.8400\n",
            "Epoch 101/500\n",
            "25/25 [==============================] - 0s 3ms/step - loss: 1.6605 - accuracy: 0.8000\n",
            "Epoch 102/500\n",
            "25/25 [==============================] - 0s 3ms/step - loss: 1.6620 - accuracy: 0.8000\n",
            "Epoch 103/500\n",
            "25/25 [==============================] - 0s 3ms/step - loss: 1.6611 - accuracy: 0.8000\n",
            "Epoch 104/500\n",
            "25/25 [==============================] - 0s 3ms/step - loss: 1.6594 - accuracy: 0.8000\n",
            "Epoch 105/500\n",
            "25/25 [==============================] - 0s 4ms/step - loss: 1.6573 - accuracy: 0.8000\n",
            "Epoch 106/500\n",
            "25/25 [==============================] - 0s 3ms/step - loss: 1.6585 - accuracy: 0.8400\n",
            "Epoch 107/500\n",
            "25/25 [==============================] - 0s 3ms/step - loss: 1.6583 - accuracy: 0.8000\n",
            "Epoch 108/500\n",
            "25/25 [==============================] - 0s 3ms/step - loss: 1.6580 - accuracy: 0.8000\n",
            "Epoch 109/500\n",
            "25/25 [==============================] - 0s 3ms/step - loss: 1.6556 - accuracy: 0.8800\n",
            "Epoch 110/500\n",
            "25/25 [==============================] - 0s 3ms/step - loss: 1.6557 - accuracy: 0.8000\n",
            "Epoch 111/500\n",
            "25/25 [==============================] - 0s 3ms/step - loss: 1.6529 - accuracy: 0.8400\n",
            "Epoch 112/500\n",
            "25/25 [==============================] - 0s 3ms/step - loss: 1.6548 - accuracy: 0.8000\n",
            "Epoch 113/500\n",
            "25/25 [==============================] - 0s 3ms/step - loss: 1.6531 - accuracy: 0.8400\n",
            "Epoch 114/500\n",
            "25/25 [==============================] - 0s 3ms/step - loss: 1.6522 - accuracy: 0.8800\n",
            "Epoch 115/500\n",
            "25/25 [==============================] - 0s 3ms/step - loss: 1.6517 - accuracy: 0.8000\n",
            "Epoch 116/500\n",
            "25/25 [==============================] - 0s 3ms/step - loss: 1.6495 - accuracy: 0.8400\n",
            "Epoch 117/500\n",
            "25/25 [==============================] - 0s 3ms/step - loss: 1.6495 - accuracy: 0.8400\n",
            "Epoch 118/500\n",
            "25/25 [==============================] - 0s 3ms/step - loss: 1.6508 - accuracy: 0.8400\n",
            "Epoch 119/500\n",
            "25/25 [==============================] - 0s 3ms/step - loss: 1.6487 - accuracy: 0.8400\n",
            "Epoch 120/500\n",
            "25/25 [==============================] - 0s 3ms/step - loss: 1.6463 - accuracy: 0.8800\n",
            "Epoch 121/500\n",
            "25/25 [==============================] - 0s 3ms/step - loss: 1.6480 - accuracy: 0.8800\n",
            "Epoch 122/500\n",
            "25/25 [==============================] - 0s 3ms/step - loss: 1.6469 - accuracy: 0.8400\n",
            "Epoch 123/500\n",
            "25/25 [==============================] - 0s 3ms/step - loss: 1.6457 - accuracy: 0.8400\n",
            "Epoch 124/500\n",
            "25/25 [==============================] - 0s 3ms/step - loss: 1.6457 - accuracy: 0.8000\n",
            "Epoch 125/500\n",
            "25/25 [==============================] - 0s 3ms/step - loss: 1.6424 - accuracy: 0.8400\n",
            "Epoch 126/500\n",
            "25/25 [==============================] - 0s 3ms/step - loss: 1.6424 - accuracy: 0.8000\n",
            "Epoch 127/500\n",
            "25/25 [==============================] - 0s 3ms/step - loss: 1.6432 - accuracy: 0.8400\n",
            "Epoch 128/500\n",
            "25/25 [==============================] - 0s 3ms/step - loss: 1.6435 - accuracy: 0.8800\n",
            "Epoch 129/500\n",
            "25/25 [==============================] - 0s 3ms/step - loss: 1.6431 - accuracy: 0.7600\n",
            "Epoch 130/500\n",
            "25/25 [==============================] - 0s 3ms/step - loss: 1.6404 - accuracy: 0.8000\n",
            "Epoch 131/500\n",
            "25/25 [==============================] - 0s 3ms/step - loss: 1.6404 - accuracy: 0.8000\n",
            "Epoch 132/500\n",
            "25/25 [==============================] - 0s 3ms/step - loss: 1.6397 - accuracy: 0.8000\n",
            "Epoch 133/500\n",
            "25/25 [==============================] - 0s 3ms/step - loss: 1.6382 - accuracy: 0.8000\n",
            "Epoch 134/500\n",
            "25/25 [==============================] - 0s 3ms/step - loss: 1.6367 - accuracy: 0.8400\n",
            "Epoch 135/500\n",
            "25/25 [==============================] - 0s 3ms/step - loss: 1.6382 - accuracy: 0.8800\n",
            "Epoch 136/500\n",
            "25/25 [==============================] - 0s 3ms/step - loss: 1.6389 - accuracy: 0.8400\n",
            "Epoch 137/500\n",
            "25/25 [==============================] - 0s 3ms/step - loss: 1.6367 - accuracy: 0.8000\n",
            "Epoch 138/500\n",
            "25/25 [==============================] - 0s 3ms/step - loss: 1.6339 - accuracy: 0.8000\n",
            "Epoch 139/500\n",
            "25/25 [==============================] - 0s 3ms/step - loss: 1.6339 - accuracy: 0.8000\n",
            "Epoch 140/500\n",
            "25/25 [==============================] - 0s 3ms/step - loss: 1.6327 - accuracy: 0.8400\n",
            "Epoch 141/500\n",
            "25/25 [==============================] - 0s 3ms/step - loss: 1.6327 - accuracy: 0.8400\n",
            "Epoch 142/500\n",
            "25/25 [==============================] - 0s 3ms/step - loss: 1.6301 - accuracy: 0.8400\n",
            "Epoch 143/500\n",
            "25/25 [==============================] - 0s 3ms/step - loss: 1.6314 - accuracy: 0.8400\n",
            "Epoch 144/500\n",
            "25/25 [==============================] - 0s 3ms/step - loss: 1.6317 - accuracy: 0.8400\n",
            "Epoch 145/500\n",
            "25/25 [==============================] - 0s 3ms/step - loss: 1.6278 - accuracy: 0.8400\n",
            "Epoch 146/500\n",
            "25/25 [==============================] - 0s 3ms/step - loss: 1.6307 - accuracy: 0.8800\n",
            "Epoch 147/500\n",
            "25/25 [==============================] - 0s 3ms/step - loss: 1.6289 - accuracy: 0.8000\n",
            "Epoch 148/500\n",
            "25/25 [==============================] - 0s 3ms/step - loss: 1.6308 - accuracy: 0.8400\n",
            "Epoch 149/500\n",
            "25/25 [==============================] - 0s 3ms/step - loss: 1.6279 - accuracy: 0.8800\n",
            "Epoch 150/500\n",
            "25/25 [==============================] - 0s 3ms/step - loss: 1.6272 - accuracy: 0.8400\n",
            "Epoch 151/500\n",
            "25/25 [==============================] - 0s 4ms/step - loss: 1.6257 - accuracy: 0.8000\n",
            "Epoch 152/500\n",
            "25/25 [==============================] - 0s 3ms/step - loss: 1.6256 - accuracy: 0.8800\n",
            "Epoch 153/500\n",
            "25/25 [==============================] - 0s 3ms/step - loss: 1.6231 - accuracy: 0.8800\n",
            "Epoch 154/500\n",
            "25/25 [==============================] - 0s 3ms/step - loss: 1.6217 - accuracy: 0.8800\n",
            "Epoch 155/500\n",
            "25/25 [==============================] - 0s 3ms/step - loss: 1.6217 - accuracy: 0.8400\n",
            "Epoch 156/500\n",
            "25/25 [==============================] - 0s 3ms/step - loss: 1.6238 - accuracy: 0.8800\n",
            "Epoch 157/500\n",
            "25/25 [==============================] - 0s 3ms/step - loss: 1.6217 - accuracy: 0.8400\n",
            "Epoch 158/500\n",
            "25/25 [==============================] - 0s 3ms/step - loss: 1.6219 - accuracy: 0.8400\n",
            "Epoch 159/500\n",
            "25/25 [==============================] - 0s 3ms/step - loss: 1.6211 - accuracy: 0.8400\n",
            "Epoch 160/500\n",
            "25/25 [==============================] - 0s 3ms/step - loss: 1.6215 - accuracy: 0.8400\n",
            "Epoch 161/500\n",
            "25/25 [==============================] - 0s 3ms/step - loss: 1.6176 - accuracy: 0.8800\n",
            "Epoch 162/500\n",
            "25/25 [==============================] - 0s 3ms/step - loss: 1.6168 - accuracy: 0.8800\n",
            "Epoch 163/500\n",
            "25/25 [==============================] - 0s 3ms/step - loss: 1.6189 - accuracy: 0.8800\n",
            "Epoch 164/500\n",
            "25/25 [==============================] - 0s 3ms/step - loss: 1.6186 - accuracy: 0.8800\n",
            "Epoch 165/500\n",
            "25/25 [==============================] - 0s 3ms/step - loss: 1.6153 - accuracy: 0.8000\n",
            "Epoch 166/500\n",
            "25/25 [==============================] - 0s 3ms/step - loss: 1.6159 - accuracy: 0.8400\n",
            "Epoch 167/500\n",
            "25/25 [==============================] - 0s 3ms/step - loss: 1.6156 - accuracy: 0.8800\n",
            "Epoch 168/500\n",
            "25/25 [==============================] - 0s 3ms/step - loss: 1.6120 - accuracy: 0.8800\n",
            "Epoch 169/500\n",
            "25/25 [==============================] - 0s 3ms/step - loss: 1.6134 - accuracy: 0.8400\n",
            "Epoch 170/500\n",
            "25/25 [==============================] - 0s 3ms/step - loss: 1.6116 - accuracy: 0.8800\n",
            "Epoch 171/500\n",
            "25/25 [==============================] - 0s 3ms/step - loss: 1.6101 - accuracy: 0.8000\n",
            "Epoch 172/500\n",
            "25/25 [==============================] - 0s 3ms/step - loss: 1.6118 - accuracy: 0.8400\n",
            "Epoch 173/500\n",
            "25/25 [==============================] - 0s 3ms/step - loss: 1.6111 - accuracy: 0.8800\n",
            "Epoch 174/500\n",
            "25/25 [==============================] - 0s 3ms/step - loss: 1.6093 - accuracy: 0.8400\n",
            "Epoch 175/500\n",
            "25/25 [==============================] - 0s 3ms/step - loss: 1.6092 - accuracy: 0.8800\n",
            "Epoch 176/500\n",
            "25/25 [==============================] - 0s 3ms/step - loss: 1.6099 - accuracy: 0.8800\n",
            "Epoch 177/500\n",
            "25/25 [==============================] - 0s 3ms/step - loss: 1.6085 - accuracy: 0.8800\n",
            "Epoch 178/500\n",
            "25/25 [==============================] - 0s 3ms/step - loss: 1.6075 - accuracy: 0.8800\n",
            "Epoch 179/500\n",
            "25/25 [==============================] - 0s 3ms/step - loss: 1.6040 - accuracy: 0.8800\n",
            "Epoch 180/500\n",
            "25/25 [==============================] - 0s 3ms/step - loss: 1.6061 - accuracy: 0.8800\n",
            "Epoch 181/500\n",
            "25/25 [==============================] - 0s 4ms/step - loss: 1.6048 - accuracy: 0.8400\n",
            "Epoch 182/500\n",
            "25/25 [==============================] - 0s 3ms/step - loss: 1.6042 - accuracy: 0.8800\n",
            "Epoch 183/500\n",
            "25/25 [==============================] - 0s 3ms/step - loss: 1.6021 - accuracy: 0.8800\n",
            "Epoch 184/500\n",
            "25/25 [==============================] - 0s 3ms/step - loss: 1.6024 - accuracy: 0.8800\n",
            "Epoch 185/500\n",
            "25/25 [==============================] - 0s 3ms/step - loss: 1.6008 - accuracy: 0.8800\n",
            "Epoch 186/500\n",
            "25/25 [==============================] - 0s 3ms/step - loss: 1.6012 - accuracy: 0.8800\n",
            "Epoch 187/500\n",
            "25/25 [==============================] - 0s 3ms/step - loss: 1.6018 - accuracy: 0.8800\n",
            "Epoch 188/500\n",
            "25/25 [==============================] - 0s 3ms/step - loss: 1.5999 - accuracy: 0.8800\n",
            "Epoch 189/500\n",
            "25/25 [==============================] - 0s 3ms/step - loss: 1.5997 - accuracy: 0.8400\n",
            "Epoch 190/500\n",
            "25/25 [==============================] - 0s 3ms/step - loss: 1.6003 - accuracy: 0.8800\n",
            "Epoch 191/500\n",
            "25/25 [==============================] - 0s 3ms/step - loss: 1.5986 - accuracy: 0.8400\n",
            "Epoch 192/500\n",
            "25/25 [==============================] - 0s 3ms/step - loss: 1.5992 - accuracy: 0.8000\n",
            "Epoch 193/500\n",
            "25/25 [==============================] - 0s 3ms/step - loss: 1.6002 - accuracy: 0.8400\n",
            "Epoch 194/500\n",
            "25/25 [==============================] - 0s 3ms/step - loss: 1.5970 - accuracy: 0.8000\n",
            "Epoch 195/500\n",
            "25/25 [==============================] - 0s 3ms/step - loss: 1.5976 - accuracy: 0.8400\n",
            "Epoch 196/500\n",
            "25/25 [==============================] - 0s 3ms/step - loss: 1.5969 - accuracy: 0.8800\n",
            "Epoch 197/500\n",
            "25/25 [==============================] - 0s 3ms/step - loss: 1.5944 - accuracy: 0.8400\n",
            "Epoch 198/500\n",
            "25/25 [==============================] - 0s 3ms/step - loss: 1.5944 - accuracy: 0.8800\n",
            "Epoch 199/500\n",
            "25/25 [==============================] - 0s 3ms/step - loss: 1.5939 - accuracy: 0.8400\n",
            "Epoch 200/500\n",
            "25/25 [==============================] - 0s 3ms/step - loss: 1.5943 - accuracy: 0.8800\n",
            "Epoch 201/500\n",
            "25/25 [==============================] - 0s 3ms/step - loss: 1.5925 - accuracy: 0.8800\n",
            "Epoch 202/500\n",
            "25/25 [==============================] - 0s 3ms/step - loss: 1.5939 - accuracy: 0.8800\n",
            "Epoch 203/500\n",
            "25/25 [==============================] - 0s 3ms/step - loss: 1.5899 - accuracy: 0.8800\n",
            "Epoch 204/500\n",
            "25/25 [==============================] - 0s 3ms/step - loss: 1.5898 - accuracy: 0.8800\n",
            "Epoch 205/500\n",
            "25/25 [==============================] - 0s 3ms/step - loss: 1.5907 - accuracy: 0.8400\n",
            "Epoch 206/500\n",
            "25/25 [==============================] - 0s 4ms/step - loss: 1.5911 - accuracy: 0.8800\n",
            "Epoch 207/500\n",
            "25/25 [==============================] - 0s 4ms/step - loss: 1.5871 - accuracy: 0.8800\n",
            "Epoch 208/500\n",
            "25/25 [==============================] - 0s 5ms/step - loss: 1.5885 - accuracy: 0.8800\n",
            "Epoch 209/500\n",
            "25/25 [==============================] - 0s 4ms/step - loss: 1.5875 - accuracy: 0.8800\n",
            "Epoch 210/500\n",
            "25/25 [==============================] - 0s 4ms/step - loss: 1.5866 - accuracy: 0.8800\n",
            "Epoch 211/500\n",
            "25/25 [==============================] - 0s 4ms/step - loss: 1.5865 - accuracy: 0.8400\n",
            "Epoch 212/500\n",
            "25/25 [==============================] - 0s 4ms/step - loss: 1.5844 - accuracy: 0.8800\n",
            "Epoch 213/500\n",
            "25/25 [==============================] - 0s 4ms/step - loss: 1.5853 - accuracy: 0.8400\n",
            "Epoch 214/500\n",
            "25/25 [==============================] - 0s 4ms/step - loss: 1.5829 - accuracy: 0.8400\n",
            "Epoch 215/500\n",
            "25/25 [==============================] - 0s 5ms/step - loss: 1.5838 - accuracy: 0.8800\n",
            "Epoch 216/500\n",
            "25/25 [==============================] - 0s 5ms/step - loss: 1.5823 - accuracy: 0.8800\n",
            "Epoch 217/500\n",
            "25/25 [==============================] - 0s 4ms/step - loss: 1.5817 - accuracy: 0.8400\n",
            "Epoch 218/500\n",
            "25/25 [==============================] - 0s 4ms/step - loss: 1.5814 - accuracy: 0.8800\n",
            "Epoch 219/500\n",
            "25/25 [==============================] - 0s 4ms/step - loss: 1.5813 - accuracy: 0.8800\n",
            "Epoch 220/500\n",
            "25/25 [==============================] - 0s 4ms/step - loss: 1.5797 - accuracy: 0.8800\n",
            "Epoch 221/500\n",
            "25/25 [==============================] - 0s 4ms/step - loss: 1.5795 - accuracy: 0.8800\n",
            "Epoch 222/500\n",
            "25/25 [==============================] - 0s 4ms/step - loss: 1.5778 - accuracy: 0.8400\n",
            "Epoch 223/500\n",
            "25/25 [==============================] - 0s 4ms/step - loss: 1.5781 - accuracy: 0.8400\n",
            "Epoch 224/500\n",
            "25/25 [==============================] - 0s 4ms/step - loss: 1.5788 - accuracy: 0.8800\n",
            "Epoch 225/500\n",
            "25/25 [==============================] - 0s 4ms/step - loss: 1.5768 - accuracy: 0.8800\n",
            "Epoch 226/500\n",
            "25/25 [==============================] - 0s 5ms/step - loss: 1.5774 - accuracy: 0.8400\n",
            "Epoch 227/500\n",
            "25/25 [==============================] - 0s 4ms/step - loss: 1.5777 - accuracy: 0.9200\n",
            "Epoch 228/500\n",
            "25/25 [==============================] - 0s 5ms/step - loss: 1.5778 - accuracy: 0.8800\n",
            "Epoch 229/500\n",
            "25/25 [==============================] - 0s 4ms/step - loss: 1.5755 - accuracy: 0.8800\n",
            "Epoch 230/500\n",
            "25/25 [==============================] - 0s 4ms/step - loss: 1.5714 - accuracy: 0.8800\n",
            "Epoch 231/500\n",
            "25/25 [==============================] - 0s 4ms/step - loss: 1.5728 - accuracy: 0.8400\n",
            "Epoch 232/500\n",
            "25/25 [==============================] - 0s 4ms/step - loss: 1.5729 - accuracy: 0.8400\n",
            "Epoch 233/500\n",
            "25/25 [==============================] - 0s 4ms/step - loss: 1.5703 - accuracy: 0.8400\n",
            "Epoch 234/500\n",
            "25/25 [==============================] - 0s 3ms/step - loss: 1.5710 - accuracy: 0.8400\n",
            "Epoch 235/500\n",
            "25/25 [==============================] - 0s 3ms/step - loss: 1.5719 - accuracy: 0.8400\n",
            "Epoch 236/500\n",
            "25/25 [==============================] - 0s 3ms/step - loss: 1.5699 - accuracy: 0.8800\n",
            "Epoch 237/500\n",
            "25/25 [==============================] - 0s 3ms/step - loss: 1.5709 - accuracy: 0.8800\n",
            "Epoch 238/500\n",
            "25/25 [==============================] - 0s 3ms/step - loss: 1.5661 - accuracy: 0.8800\n",
            "Epoch 239/500\n",
            "25/25 [==============================] - 0s 3ms/step - loss: 1.5680 - accuracy: 0.8400\n",
            "Epoch 240/500\n",
            "25/25 [==============================] - 0s 3ms/step - loss: 1.5713 - accuracy: 0.8800\n",
            "Epoch 241/500\n",
            "25/25 [==============================] - 0s 3ms/step - loss: 1.5686 - accuracy: 0.8800\n",
            "Epoch 242/500\n",
            "25/25 [==============================] - 0s 3ms/step - loss: 1.5664 - accuracy: 0.8400\n",
            "Epoch 243/500\n",
            "25/25 [==============================] - 0s 3ms/step - loss: 1.5653 - accuracy: 0.9200\n",
            "Epoch 244/500\n",
            "25/25 [==============================] - 0s 3ms/step - loss: 1.5670 - accuracy: 0.8800\n",
            "Epoch 245/500\n",
            "25/25 [==============================] - 0s 3ms/step - loss: 1.5649 - accuracy: 0.8400\n",
            "Epoch 246/500\n",
            "25/25 [==============================] - 0s 3ms/step - loss: 1.5650 - accuracy: 0.8400\n",
            "Epoch 247/500\n",
            "25/25 [==============================] - 0s 3ms/step - loss: 1.5634 - accuracy: 0.8400\n",
            "Epoch 248/500\n",
            "25/25 [==============================] - 0s 3ms/step - loss: 1.5630 - accuracy: 0.8800\n",
            "Epoch 249/500\n",
            "25/25 [==============================] - 0s 3ms/step - loss: 1.5625 - accuracy: 0.8800\n",
            "Epoch 250/500\n",
            "25/25 [==============================] - 0s 3ms/step - loss: 1.5637 - accuracy: 0.8400\n",
            "Epoch 251/500\n",
            "25/25 [==============================] - 0s 3ms/step - loss: 1.5628 - accuracy: 0.8800\n",
            "Epoch 252/500\n",
            "25/25 [==============================] - 0s 3ms/step - loss: 1.5632 - accuracy: 0.8400\n",
            "Epoch 253/500\n",
            "25/25 [==============================] - 0s 3ms/step - loss: 1.5583 - accuracy: 0.8800\n",
            "Epoch 254/500\n",
            "25/25 [==============================] - 0s 3ms/step - loss: 1.5603 - accuracy: 0.8800\n",
            "Epoch 255/500\n",
            "25/25 [==============================] - 0s 3ms/step - loss: 1.5578 - accuracy: 0.8800\n",
            "Epoch 256/500\n",
            "25/25 [==============================] - 0s 3ms/step - loss: 1.5625 - accuracy: 0.8800\n",
            "Epoch 257/500\n",
            "25/25 [==============================] - 0s 3ms/step - loss: 1.5556 - accuracy: 0.8800\n",
            "Epoch 258/500\n",
            "25/25 [==============================] - 0s 3ms/step - loss: 1.5580 - accuracy: 0.8400\n",
            "Epoch 259/500\n",
            "25/25 [==============================] - 0s 3ms/step - loss: 1.5580 - accuracy: 0.8800\n",
            "Epoch 260/500\n",
            "25/25 [==============================] - 0s 3ms/step - loss: 1.5565 - accuracy: 0.8400\n",
            "Epoch 261/500\n",
            "25/25 [==============================] - 0s 3ms/step - loss: 1.5549 - accuracy: 0.8400\n",
            "Epoch 262/500\n",
            "25/25 [==============================] - 0s 3ms/step - loss: 1.5561 - accuracy: 0.8800\n",
            "Epoch 263/500\n",
            "25/25 [==============================] - 0s 3ms/step - loss: 1.5538 - accuracy: 0.8800\n",
            "Epoch 264/500\n",
            "25/25 [==============================] - 0s 3ms/step - loss: 1.5525 - accuracy: 0.8800\n",
            "Epoch 265/500\n",
            "25/25 [==============================] - 0s 3ms/step - loss: 1.5553 - accuracy: 0.8400\n",
            "Epoch 266/500\n",
            "25/25 [==============================] - 0s 3ms/step - loss: 1.5541 - accuracy: 0.8800\n",
            "Epoch 267/500\n",
            "25/25 [==============================] - 0s 3ms/step - loss: 1.5505 - accuracy: 0.8800\n",
            "Epoch 268/500\n",
            "25/25 [==============================] - 0s 3ms/step - loss: 1.5539 - accuracy: 0.8800\n",
            "Epoch 269/500\n",
            "25/25 [==============================] - 0s 3ms/step - loss: 1.5518 - accuracy: 0.8800\n",
            "Epoch 270/500\n",
            "25/25 [==============================] - 0s 3ms/step - loss: 1.5500 - accuracy: 0.8800\n",
            "Epoch 271/500\n",
            "25/25 [==============================] - 0s 3ms/step - loss: 1.5498 - accuracy: 0.8800\n",
            "Epoch 272/500\n",
            "25/25 [==============================] - 0s 3ms/step - loss: 1.5483 - accuracy: 0.8800\n",
            "Epoch 273/500\n",
            "25/25 [==============================] - 0s 3ms/step - loss: 1.5493 - accuracy: 0.8800\n",
            "Epoch 274/500\n",
            "25/25 [==============================] - 0s 3ms/step - loss: 1.5482 - accuracy: 0.8800\n",
            "Epoch 275/500\n",
            "25/25 [==============================] - 0s 3ms/step - loss: 1.5490 - accuracy: 0.8800\n",
            "Epoch 276/500\n",
            "25/25 [==============================] - 0s 3ms/step - loss: 1.5468 - accuracy: 0.8800\n",
            "Epoch 277/500\n",
            "25/25 [==============================] - 0s 3ms/step - loss: 1.5461 - accuracy: 0.8800\n",
            "Epoch 278/500\n",
            "25/25 [==============================] - 0s 3ms/step - loss: 1.5481 - accuracy: 0.8400\n",
            "Epoch 279/500\n",
            "25/25 [==============================] - 0s 3ms/step - loss: 1.5445 - accuracy: 0.8800\n",
            "Epoch 280/500\n",
            "25/25 [==============================] - 0s 3ms/step - loss: 1.5439 - accuracy: 0.8800\n",
            "Epoch 281/500\n",
            "25/25 [==============================] - 0s 3ms/step - loss: 1.5472 - accuracy: 0.8800\n",
            "Epoch 282/500\n",
            "25/25 [==============================] - 0s 3ms/step - loss: 1.5424 - accuracy: 0.9200\n",
            "Epoch 283/500\n",
            "25/25 [==============================] - 0s 3ms/step - loss: 1.5435 - accuracy: 0.8800\n",
            "Epoch 284/500\n",
            "25/25 [==============================] - 0s 3ms/step - loss: 1.5410 - accuracy: 0.8800\n",
            "Epoch 285/500\n",
            "25/25 [==============================] - 0s 3ms/step - loss: 1.5425 - accuracy: 0.8800\n",
            "Epoch 286/500\n",
            "25/25 [==============================] - 0s 3ms/step - loss: 1.5428 - accuracy: 0.8800\n",
            "Epoch 287/500\n",
            "25/25 [==============================] - 0s 3ms/step - loss: 1.5403 - accuracy: 0.8800\n",
            "Epoch 288/500\n",
            "25/25 [==============================] - 0s 3ms/step - loss: 1.5413 - accuracy: 0.8800\n",
            "Epoch 289/500\n",
            "25/25 [==============================] - 0s 3ms/step - loss: 1.5393 - accuracy: 0.8400\n",
            "Epoch 290/500\n",
            "25/25 [==============================] - 0s 3ms/step - loss: 1.5411 - accuracy: 0.8800\n",
            "Epoch 291/500\n",
            "25/25 [==============================] - 0s 3ms/step - loss: 1.5392 - accuracy: 0.8400\n",
            "Epoch 292/500\n",
            "25/25 [==============================] - 0s 3ms/step - loss: 1.5386 - accuracy: 0.8800\n",
            "Epoch 293/500\n",
            "25/25 [==============================] - 0s 3ms/step - loss: 1.5400 - accuracy: 0.8400\n",
            "Epoch 294/500\n",
            "25/25 [==============================] - 0s 3ms/step - loss: 1.5380 - accuracy: 0.8800\n",
            "Epoch 295/500\n",
            "25/25 [==============================] - 0s 3ms/step - loss: 1.5361 - accuracy: 0.8400\n",
            "Epoch 296/500\n",
            "25/25 [==============================] - 0s 3ms/step - loss: 1.5368 - accuracy: 0.8400\n",
            "Epoch 297/500\n",
            "25/25 [==============================] - 0s 3ms/step - loss: 1.5338 - accuracy: 0.8800\n",
            "Epoch 298/500\n",
            "25/25 [==============================] - 0s 3ms/step - loss: 1.5353 - accuracy: 0.8800\n",
            "Epoch 299/500\n",
            "25/25 [==============================] - 0s 3ms/step - loss: 1.5364 - accuracy: 0.8800\n",
            "Epoch 300/500\n",
            "25/25 [==============================] - 0s 3ms/step - loss: 1.5351 - accuracy: 0.8800\n",
            "Epoch 301/500\n",
            "25/25 [==============================] - 0s 3ms/step - loss: 1.5322 - accuracy: 0.8800\n",
            "Epoch 302/500\n",
            "25/25 [==============================] - 0s 3ms/step - loss: 1.5327 - accuracy: 0.8800\n",
            "Epoch 303/500\n",
            "25/25 [==============================] - 0s 3ms/step - loss: 1.5347 - accuracy: 0.8800\n",
            "Epoch 304/500\n",
            "25/25 [==============================] - 0s 3ms/step - loss: 1.5323 - accuracy: 0.8400\n",
            "Epoch 305/500\n",
            "25/25 [==============================] - 0s 3ms/step - loss: 1.5325 - accuracy: 0.8800\n",
            "Epoch 306/500\n",
            "25/25 [==============================] - 0s 3ms/step - loss: 1.5317 - accuracy: 0.8800\n",
            "Epoch 307/500\n",
            "25/25 [==============================] - 0s 3ms/step - loss: 1.5320 - accuracy: 0.8800\n",
            "Epoch 308/500\n",
            "25/25 [==============================] - 0s 3ms/step - loss: 1.5303 - accuracy: 0.9200\n",
            "Epoch 309/500\n",
            "25/25 [==============================] - 0s 3ms/step - loss: 1.5279 - accuracy: 0.8800\n",
            "Epoch 310/500\n",
            "25/25 [==============================] - 0s 3ms/step - loss: 1.5275 - accuracy: 0.8800\n",
            "Epoch 311/500\n",
            "25/25 [==============================] - 0s 3ms/step - loss: 1.5283 - accuracy: 0.8800\n",
            "Epoch 312/500\n",
            "25/25 [==============================] - 0s 3ms/step - loss: 1.5288 - accuracy: 0.9200\n",
            "Epoch 313/500\n",
            "25/25 [==============================] - 0s 3ms/step - loss: 1.5283 - accuracy: 0.9200\n",
            "Epoch 314/500\n",
            "25/25 [==============================] - 0s 3ms/step - loss: 1.5283 - accuracy: 0.8800\n",
            "Epoch 315/500\n",
            "25/25 [==============================] - 0s 3ms/step - loss: 1.5263 - accuracy: 0.8800\n",
            "Epoch 316/500\n",
            "25/25 [==============================] - 0s 3ms/step - loss: 1.5267 - accuracy: 0.8800\n",
            "Epoch 317/500\n",
            "25/25 [==============================] - 0s 3ms/step - loss: 1.5270 - accuracy: 0.8800\n",
            "Epoch 318/500\n",
            "25/25 [==============================] - 0s 3ms/step - loss: 1.5249 - accuracy: 0.8800\n",
            "Epoch 319/500\n",
            "25/25 [==============================] - 0s 3ms/step - loss: 1.5231 - accuracy: 0.8800\n",
            "Epoch 320/500\n",
            "25/25 [==============================] - 0s 3ms/step - loss: 1.5219 - accuracy: 0.8800\n",
            "Epoch 321/500\n",
            "25/25 [==============================] - 0s 3ms/step - loss: 1.5233 - accuracy: 0.8800\n",
            "Epoch 322/500\n",
            "25/25 [==============================] - 0s 3ms/step - loss: 1.5237 - accuracy: 0.8800\n",
            "Epoch 323/500\n",
            "25/25 [==============================] - 0s 3ms/step - loss: 1.5223 - accuracy: 0.8800\n",
            "Epoch 324/500\n",
            "25/25 [==============================] - 0s 3ms/step - loss: 1.5219 - accuracy: 0.8800\n",
            "Epoch 325/500\n",
            "25/25 [==============================] - 0s 3ms/step - loss: 1.5173 - accuracy: 0.8800\n",
            "Epoch 326/500\n",
            "25/25 [==============================] - 0s 3ms/step - loss: 1.5198 - accuracy: 0.8800\n",
            "Epoch 327/500\n",
            "25/25 [==============================] - 0s 3ms/step - loss: 1.5201 - accuracy: 0.8800\n",
            "Epoch 328/500\n",
            "25/25 [==============================] - 0s 3ms/step - loss: 1.5206 - accuracy: 0.9200\n",
            "Epoch 329/500\n",
            "25/25 [==============================] - 0s 3ms/step - loss: 1.5202 - accuracy: 0.8800\n",
            "Epoch 330/500\n",
            "25/25 [==============================] - 0s 3ms/step - loss: 1.5191 - accuracy: 0.8800\n",
            "Epoch 331/500\n",
            "25/25 [==============================] - 0s 3ms/step - loss: 1.5200 - accuracy: 0.8800\n",
            "Epoch 332/500\n",
            "25/25 [==============================] - 0s 3ms/step - loss: 1.5159 - accuracy: 0.8800\n",
            "Epoch 333/500\n",
            "25/25 [==============================] - 0s 3ms/step - loss: 1.5182 - accuracy: 0.9200\n",
            "Epoch 334/500\n",
            "25/25 [==============================] - 0s 3ms/step - loss: 1.5169 - accuracy: 0.9200\n",
            "Epoch 335/500\n",
            "25/25 [==============================] - 0s 3ms/step - loss: 1.5164 - accuracy: 0.8800\n",
            "Epoch 336/500\n",
            "25/25 [==============================] - 0s 3ms/step - loss: 1.5153 - accuracy: 0.8800\n",
            "Epoch 337/500\n",
            "25/25 [==============================] - 0s 3ms/step - loss: 1.5154 - accuracy: 0.8800\n",
            "Epoch 338/500\n",
            "25/25 [==============================] - 0s 3ms/step - loss: 1.5153 - accuracy: 0.8800\n",
            "Epoch 339/500\n",
            "25/25 [==============================] - 0s 3ms/step - loss: 1.5127 - accuracy: 0.8800\n",
            "Epoch 340/500\n",
            "25/25 [==============================] - 0s 3ms/step - loss: 1.5126 - accuracy: 0.8800\n",
            "Epoch 341/500\n",
            "25/25 [==============================] - 0s 3ms/step - loss: 1.5111 - accuracy: 0.8800\n",
            "Epoch 342/500\n",
            "25/25 [==============================] - 0s 3ms/step - loss: 1.5123 - accuracy: 0.8800\n",
            "Epoch 343/500\n",
            "25/25 [==============================] - 0s 3ms/step - loss: 1.5141 - accuracy: 0.8800\n",
            "Epoch 344/500\n",
            "25/25 [==============================] - 0s 3ms/step - loss: 1.5132 - accuracy: 0.8800\n",
            "Epoch 345/500\n",
            "25/25 [==============================] - 0s 3ms/step - loss: 1.5099 - accuracy: 0.8800\n",
            "Epoch 346/500\n",
            "25/25 [==============================] - 0s 3ms/step - loss: 1.5072 - accuracy: 0.8800\n",
            "Epoch 347/500\n",
            "25/25 [==============================] - 0s 3ms/step - loss: 1.5096 - accuracy: 0.8800\n",
            "Epoch 348/500\n",
            "25/25 [==============================] - 0s 3ms/step - loss: 1.5110 - accuracy: 0.8800\n",
            "Epoch 349/500\n",
            "25/25 [==============================] - 0s 3ms/step - loss: 1.5109 - accuracy: 0.8800\n",
            "Epoch 350/500\n",
            "25/25 [==============================] - 0s 3ms/step - loss: 1.5041 - accuracy: 0.8800\n",
            "Epoch 351/500\n",
            "25/25 [==============================] - 0s 3ms/step - loss: 1.5065 - accuracy: 0.8800\n",
            "Epoch 352/500\n",
            "25/25 [==============================] - 0s 4ms/step - loss: 1.5066 - accuracy: 0.8800\n",
            "Epoch 353/500\n",
            "25/25 [==============================] - 0s 3ms/step - loss: 1.5069 - accuracy: 0.8800\n",
            "Epoch 354/500\n",
            "25/25 [==============================] - 0s 3ms/step - loss: 1.5052 - accuracy: 0.8800\n",
            "Epoch 355/500\n",
            "25/25 [==============================] - 0s 4ms/step - loss: 1.5065 - accuracy: 0.9200\n",
            "Epoch 356/500\n",
            "25/25 [==============================] - 0s 5ms/step - loss: 1.5051 - accuracy: 0.8800\n",
            "Epoch 357/500\n",
            "25/25 [==============================] - 0s 4ms/step - loss: 1.5041 - accuracy: 0.8800\n",
            "Epoch 358/500\n",
            "25/25 [==============================] - 0s 4ms/step - loss: 1.5037 - accuracy: 0.8800\n",
            "Epoch 359/500\n",
            "25/25 [==============================] - 0s 4ms/step - loss: 1.5064 - accuracy: 0.8800\n",
            "Epoch 360/500\n",
            "25/25 [==============================] - 0s 4ms/step - loss: 1.5024 - accuracy: 0.8800\n",
            "Epoch 361/500\n",
            "25/25 [==============================] - 0s 4ms/step - loss: 1.5037 - accuracy: 0.8400\n",
            "Epoch 362/500\n",
            "25/25 [==============================] - 0s 4ms/step - loss: 1.5021 - accuracy: 0.8800\n",
            "Epoch 363/500\n",
            "25/25 [==============================] - 0s 5ms/step - loss: 1.5043 - accuracy: 0.8800\n",
            "Epoch 364/500\n",
            "25/25 [==============================] - 0s 4ms/step - loss: 1.5001 - accuracy: 0.9200\n",
            "Epoch 365/500\n",
            "25/25 [==============================] - 0s 4ms/step - loss: 1.5019 - accuracy: 0.8800\n",
            "Epoch 366/500\n",
            "25/25 [==============================] - 0s 4ms/step - loss: 1.4991 - accuracy: 0.8800\n",
            "Epoch 367/500\n",
            "25/25 [==============================] - 0s 4ms/step - loss: 1.4986 - accuracy: 0.8800\n",
            "Epoch 368/500\n",
            "25/25 [==============================] - 0s 5ms/step - loss: 1.5014 - accuracy: 0.8800\n",
            "Epoch 369/500\n",
            "25/25 [==============================] - 0s 4ms/step - loss: 1.5004 - accuracy: 0.8800\n",
            "Epoch 370/500\n",
            "25/25 [==============================] - 0s 4ms/step - loss: 1.5001 - accuracy: 0.9200\n",
            "Epoch 371/500\n",
            "25/25 [==============================] - 0s 4ms/step - loss: 1.4987 - accuracy: 0.8800\n",
            "Epoch 372/500\n",
            "25/25 [==============================] - 0s 4ms/step - loss: 1.4964 - accuracy: 0.8800\n",
            "Epoch 373/500\n",
            "25/25 [==============================] - 0s 4ms/step - loss: 1.4986 - accuracy: 0.8800\n",
            "Epoch 374/500\n",
            "25/25 [==============================] - 0s 3ms/step - loss: 1.4974 - accuracy: 0.8800\n",
            "Epoch 375/500\n",
            "25/25 [==============================] - 0s 3ms/step - loss: 1.4976 - accuracy: 0.8800\n",
            "Epoch 376/500\n",
            "25/25 [==============================] - 0s 4ms/step - loss: 1.4937 - accuracy: 0.9200\n",
            "Epoch 377/500\n",
            "25/25 [==============================] - 0s 4ms/step - loss: 1.4963 - accuracy: 0.8800\n",
            "Epoch 378/500\n",
            "25/25 [==============================] - 0s 5ms/step - loss: 1.4929 - accuracy: 0.8800\n",
            "Epoch 379/500\n",
            "25/25 [==============================] - 0s 4ms/step - loss: 1.4940 - accuracy: 0.8800\n",
            "Epoch 380/500\n",
            "25/25 [==============================] - 0s 4ms/step - loss: 1.4917 - accuracy: 0.8800\n",
            "Epoch 381/500\n",
            "25/25 [==============================] - 0s 4ms/step - loss: 1.4945 - accuracy: 0.8800\n",
            "Epoch 382/500\n",
            "25/25 [==============================] - 0s 4ms/step - loss: 1.4900 - accuracy: 0.9200\n",
            "Epoch 383/500\n",
            "25/25 [==============================] - 0s 4ms/step - loss: 1.4922 - accuracy: 0.8800\n",
            "Epoch 384/500\n",
            "25/25 [==============================] - 0s 4ms/step - loss: 1.4916 - accuracy: 0.9200\n",
            "Epoch 385/500\n",
            "25/25 [==============================] - 0s 4ms/step - loss: 1.4901 - accuracy: 0.9200\n",
            "Epoch 386/500\n",
            "25/25 [==============================] - 0s 4ms/step - loss: 1.4907 - accuracy: 0.8800\n",
            "Epoch 387/500\n",
            "25/25 [==============================] - 0s 5ms/step - loss: 1.4907 - accuracy: 0.9200\n",
            "Epoch 388/500\n",
            "25/25 [==============================] - 0s 3ms/step - loss: 1.4901 - accuracy: 0.9200\n",
            "Epoch 389/500\n",
            "25/25 [==============================] - 0s 3ms/step - loss: 1.4886 - accuracy: 0.9200\n",
            "Epoch 390/500\n",
            "25/25 [==============================] - 0s 3ms/step - loss: 1.4873 - accuracy: 0.8800\n",
            "Epoch 391/500\n",
            "25/25 [==============================] - 0s 3ms/step - loss: 1.4882 - accuracy: 0.8800\n",
            "Epoch 392/500\n",
            "25/25 [==============================] - 0s 3ms/step - loss: 1.4860 - accuracy: 0.8800\n",
            "Epoch 393/500\n",
            "25/25 [==============================] - 0s 3ms/step - loss: 1.4853 - accuracy: 0.8800\n",
            "Epoch 394/500\n",
            "25/25 [==============================] - 0s 3ms/step - loss: 1.4848 - accuracy: 0.9200\n",
            "Epoch 395/500\n",
            "25/25 [==============================] - 0s 3ms/step - loss: 1.4858 - accuracy: 0.9200\n",
            "Epoch 396/500\n",
            "25/25 [==============================] - 0s 3ms/step - loss: 1.4835 - accuracy: 0.9200\n",
            "Epoch 397/500\n",
            "25/25 [==============================] - 0s 3ms/step - loss: 1.4866 - accuracy: 0.8800\n",
            "Epoch 398/500\n",
            "25/25 [==============================] - 0s 3ms/step - loss: 1.4854 - accuracy: 0.8800\n",
            "Epoch 399/500\n",
            "25/25 [==============================] - 0s 3ms/step - loss: 1.4850 - accuracy: 0.9200\n",
            "Epoch 400/500\n",
            "25/25 [==============================] - 0s 3ms/step - loss: 1.4845 - accuracy: 0.8800\n",
            "Epoch 401/500\n",
            "25/25 [==============================] - 0s 3ms/step - loss: 1.4823 - accuracy: 0.9200\n",
            "Epoch 402/500\n",
            "25/25 [==============================] - 0s 3ms/step - loss: 1.4822 - accuracy: 0.8800\n",
            "Epoch 403/500\n",
            "25/25 [==============================] - 0s 3ms/step - loss: 1.4803 - accuracy: 0.8800\n",
            "Epoch 404/500\n",
            "25/25 [==============================] - 0s 3ms/step - loss: 1.4810 - accuracy: 0.9200\n",
            "Epoch 405/500\n",
            "25/25 [==============================] - 0s 3ms/step - loss: 1.4815 - accuracy: 0.8800\n",
            "Epoch 406/500\n",
            "25/25 [==============================] - 0s 3ms/step - loss: 1.4791 - accuracy: 0.8800\n",
            "Epoch 407/500\n",
            "25/25 [==============================] - 0s 3ms/step - loss: 1.4779 - accuracy: 0.8800\n",
            "Epoch 408/500\n",
            "25/25 [==============================] - 0s 3ms/step - loss: 1.4798 - accuracy: 0.8800\n",
            "Epoch 409/500\n",
            "25/25 [==============================] - 0s 3ms/step - loss: 1.4798 - accuracy: 0.8800\n",
            "Epoch 410/500\n",
            "25/25 [==============================] - 0s 3ms/step - loss: 1.4803 - accuracy: 0.8800\n",
            "Epoch 411/500\n",
            "25/25 [==============================] - 0s 3ms/step - loss: 1.4796 - accuracy: 0.8800\n",
            "Epoch 412/500\n",
            "25/25 [==============================] - 0s 3ms/step - loss: 1.4744 - accuracy: 0.8800\n",
            "Epoch 413/500\n",
            "25/25 [==============================] - 0s 3ms/step - loss: 1.4783 - accuracy: 0.8800\n",
            "Epoch 414/500\n",
            "25/25 [==============================] - 0s 3ms/step - loss: 1.4799 - accuracy: 0.8800\n",
            "Epoch 415/500\n",
            "25/25 [==============================] - 0s 3ms/step - loss: 1.4774 - accuracy: 0.8800\n",
            "Epoch 416/500\n",
            "25/25 [==============================] - 0s 3ms/step - loss: 1.4750 - accuracy: 0.8800\n",
            "Epoch 417/500\n",
            "25/25 [==============================] - 0s 3ms/step - loss: 1.4755 - accuracy: 0.9200\n",
            "Epoch 418/500\n",
            "25/25 [==============================] - 0s 3ms/step - loss: 1.4742 - accuracy: 0.9200\n",
            "Epoch 419/500\n",
            "25/25 [==============================] - 0s 3ms/step - loss: 1.4747 - accuracy: 0.8800\n",
            "Epoch 420/500\n",
            "25/25 [==============================] - 0s 3ms/step - loss: 1.4741 - accuracy: 0.8800\n",
            "Epoch 421/500\n",
            "25/25 [==============================] - 0s 3ms/step - loss: 1.4727 - accuracy: 0.9200\n",
            "Epoch 422/500\n",
            "25/25 [==============================] - 0s 3ms/step - loss: 1.4749 - accuracy: 0.8800\n",
            "Epoch 423/500\n",
            "25/25 [==============================] - 0s 3ms/step - loss: 1.4757 - accuracy: 0.8800\n",
            "Epoch 424/500\n",
            "25/25 [==============================] - 0s 3ms/step - loss: 1.4732 - accuracy: 0.8800\n",
            "Epoch 425/500\n",
            "25/25 [==============================] - 0s 3ms/step - loss: 1.4723 - accuracy: 0.8800\n",
            "Epoch 426/500\n",
            "25/25 [==============================] - 0s 3ms/step - loss: 1.4720 - accuracy: 0.9200\n",
            "Epoch 427/500\n",
            "25/25 [==============================] - 0s 3ms/step - loss: 1.4716 - accuracy: 0.9200\n",
            "Epoch 428/500\n",
            "25/25 [==============================] - 0s 3ms/step - loss: 1.4685 - accuracy: 0.9200\n",
            "Epoch 429/500\n",
            "25/25 [==============================] - 0s 3ms/step - loss: 1.4704 - accuracy: 0.8800\n",
            "Epoch 430/500\n",
            "25/25 [==============================] - 0s 3ms/step - loss: 1.4695 - accuracy: 0.8800\n",
            "Epoch 431/500\n",
            "25/25 [==============================] - 0s 3ms/step - loss: 1.4677 - accuracy: 0.8800\n",
            "Epoch 432/500\n",
            "25/25 [==============================] - 0s 3ms/step - loss: 1.4685 - accuracy: 0.9200\n",
            "Epoch 433/500\n",
            "25/25 [==============================] - 0s 3ms/step - loss: 1.4678 - accuracy: 0.9200\n",
            "Epoch 434/500\n",
            "25/25 [==============================] - 0s 3ms/step - loss: 1.4653 - accuracy: 0.8800\n",
            "Epoch 435/500\n",
            "25/25 [==============================] - 0s 3ms/step - loss: 1.4679 - accuracy: 0.9200\n",
            "Epoch 436/500\n",
            "25/25 [==============================] - 0s 3ms/step - loss: 1.4642 - accuracy: 0.9200\n",
            "Epoch 437/500\n",
            "25/25 [==============================] - 0s 3ms/step - loss: 1.4683 - accuracy: 0.8800\n",
            "Epoch 438/500\n",
            "25/25 [==============================] - 0s 3ms/step - loss: 1.4643 - accuracy: 0.8800\n",
            "Epoch 439/500\n",
            "25/25 [==============================] - 0s 3ms/step - loss: 1.4675 - accuracy: 0.8800\n",
            "Epoch 440/500\n",
            "25/25 [==============================] - 0s 3ms/step - loss: 1.4640 - accuracy: 0.8800\n",
            "Epoch 441/500\n",
            "25/25 [==============================] - 0s 3ms/step - loss: 1.4662 - accuracy: 0.9200\n",
            "Epoch 442/500\n",
            "25/25 [==============================] - 0s 3ms/step - loss: 1.4596 - accuracy: 0.9200\n",
            "Epoch 443/500\n",
            "25/25 [==============================] - 0s 3ms/step - loss: 1.4625 - accuracy: 0.8800\n",
            "Epoch 444/500\n",
            "25/25 [==============================] - 0s 3ms/step - loss: 1.4613 - accuracy: 0.8400\n",
            "Epoch 445/500\n",
            "25/25 [==============================] - 0s 3ms/step - loss: 1.4631 - accuracy: 0.8800\n",
            "Epoch 446/500\n",
            "25/25 [==============================] - 0s 3ms/step - loss: 1.4638 - accuracy: 0.8800\n",
            "Epoch 447/500\n",
            "25/25 [==============================] - 0s 3ms/step - loss: 1.4602 - accuracy: 0.8800\n",
            "Epoch 448/500\n",
            "25/25 [==============================] - 0s 3ms/step - loss: 1.4646 - accuracy: 0.9200\n",
            "Epoch 449/500\n",
            "25/25 [==============================] - 0s 3ms/step - loss: 1.4615 - accuracy: 0.9200\n",
            "Epoch 450/500\n",
            "25/25 [==============================] - 0s 3ms/step - loss: 1.4604 - accuracy: 0.8800\n",
            "Epoch 451/500\n",
            "25/25 [==============================] - 0s 3ms/step - loss: 1.4619 - accuracy: 0.8800\n",
            "Epoch 452/500\n",
            "25/25 [==============================] - 0s 3ms/step - loss: 1.4599 - accuracy: 0.9200\n",
            "Epoch 453/500\n",
            "25/25 [==============================] - 0s 3ms/step - loss: 1.4604 - accuracy: 0.8800\n",
            "Epoch 454/500\n",
            "25/25 [==============================] - 0s 3ms/step - loss: 1.4562 - accuracy: 0.8800\n",
            "Epoch 455/500\n",
            "25/25 [==============================] - 0s 3ms/step - loss: 1.4591 - accuracy: 0.8800\n",
            "Epoch 456/500\n",
            "25/25 [==============================] - 0s 3ms/step - loss: 1.4590 - accuracy: 0.8800\n",
            "Epoch 457/500\n",
            "25/25 [==============================] - 0s 3ms/step - loss: 1.4586 - accuracy: 0.8800\n",
            "Epoch 458/500\n",
            "25/25 [==============================] - 0s 3ms/step - loss: 1.4572 - accuracy: 0.9200\n",
            "Epoch 459/500\n",
            "25/25 [==============================] - 0s 4ms/step - loss: 1.4554 - accuracy: 0.9200\n",
            "Epoch 460/500\n",
            "25/25 [==============================] - 0s 3ms/step - loss: 1.4568 - accuracy: 0.8800\n",
            "Epoch 461/500\n",
            "25/25 [==============================] - 0s 3ms/step - loss: 1.4536 - accuracy: 0.9200\n",
            "Epoch 462/500\n",
            "25/25 [==============================] - 0s 3ms/step - loss: 1.4546 - accuracy: 0.8800\n",
            "Epoch 463/500\n",
            "25/25 [==============================] - 0s 3ms/step - loss: 1.4534 - accuracy: 0.8800\n",
            "Epoch 464/500\n",
            "25/25 [==============================] - 0s 3ms/step - loss: 1.4543 - accuracy: 0.8800\n",
            "Epoch 465/500\n",
            "25/25 [==============================] - 0s 3ms/step - loss: 1.4543 - accuracy: 0.8800\n",
            "Epoch 466/500\n",
            "25/25 [==============================] - 0s 3ms/step - loss: 1.4531 - accuracy: 0.8800\n",
            "Epoch 467/500\n",
            "25/25 [==============================] - 0s 3ms/step - loss: 1.4522 - accuracy: 0.9200\n",
            "Epoch 468/500\n",
            "25/25 [==============================] - 0s 4ms/step - loss: 1.4511 - accuracy: 0.9200\n",
            "Epoch 469/500\n",
            "25/25 [==============================] - 0s 3ms/step - loss: 1.4516 - accuracy: 0.9200\n",
            "Epoch 470/500\n",
            "25/25 [==============================] - 0s 4ms/step - loss: 1.4509 - accuracy: 0.8800\n",
            "Epoch 471/500\n",
            "25/25 [==============================] - 0s 3ms/step - loss: 1.4492 - accuracy: 0.8400\n",
            "Epoch 472/500\n",
            "25/25 [==============================] - 0s 3ms/step - loss: 1.4496 - accuracy: 0.8800\n",
            "Epoch 473/500\n",
            "25/25 [==============================] - 0s 3ms/step - loss: 1.4509 - accuracy: 0.9200\n",
            "Epoch 474/500\n",
            "25/25 [==============================] - 0s 3ms/step - loss: 1.4484 - accuracy: 0.9200\n",
            "Epoch 475/500\n",
            "25/25 [==============================] - 0s 3ms/step - loss: 1.4500 - accuracy: 0.8800\n",
            "Epoch 476/500\n",
            "25/25 [==============================] - 0s 3ms/step - loss: 1.4483 - accuracy: 0.8400\n",
            "Epoch 477/500\n",
            "25/25 [==============================] - 0s 3ms/step - loss: 1.4478 - accuracy: 0.9200\n",
            "Epoch 478/500\n",
            "25/25 [==============================] - 0s 3ms/step - loss: 1.4458 - accuracy: 0.9200\n",
            "Epoch 479/500\n",
            "25/25 [==============================] - 0s 3ms/step - loss: 1.4462 - accuracy: 0.8800\n",
            "Epoch 480/500\n",
            "25/25 [==============================] - 0s 3ms/step - loss: 1.4478 - accuracy: 0.8800\n",
            "Epoch 481/500\n",
            "25/25 [==============================] - 0s 3ms/step - loss: 1.4449 - accuracy: 0.8800\n",
            "Epoch 482/500\n",
            "25/25 [==============================] - 0s 4ms/step - loss: 1.4468 - accuracy: 0.9200\n",
            "Epoch 483/500\n",
            "25/25 [==============================] - 0s 3ms/step - loss: 1.4479 - accuracy: 0.9200\n",
            "Epoch 484/500\n",
            "25/25 [==============================] - 0s 3ms/step - loss: 1.4448 - accuracy: 0.8800\n",
            "Epoch 485/500\n",
            "25/25 [==============================] - 0s 3ms/step - loss: 1.4454 - accuracy: 0.8800\n",
            "Epoch 486/500\n",
            "25/25 [==============================] - 0s 3ms/step - loss: 1.4457 - accuracy: 0.8800\n",
            "Epoch 487/500\n",
            "25/25 [==============================] - 0s 3ms/step - loss: 1.4438 - accuracy: 0.8800\n",
            "Epoch 488/500\n",
            "25/25 [==============================] - 0s 3ms/step - loss: 1.4436 - accuracy: 0.8800\n",
            "Epoch 489/500\n",
            "25/25 [==============================] - 0s 3ms/step - loss: 1.4429 - accuracy: 0.8800\n",
            "Epoch 490/500\n",
            "25/25 [==============================] - 0s 3ms/step - loss: 1.4413 - accuracy: 0.8800\n",
            "Epoch 491/500\n",
            "25/25 [==============================] - 0s 3ms/step - loss: 1.4419 - accuracy: 0.9200\n",
            "Epoch 492/500\n",
            "25/25 [==============================] - 0s 3ms/step - loss: 1.4412 - accuracy: 0.9200\n",
            "Epoch 493/500\n",
            "25/25 [==============================] - 0s 3ms/step - loss: 1.4423 - accuracy: 0.9200\n",
            "Epoch 494/500\n",
            "25/25 [==============================] - 0s 4ms/step - loss: 1.4413 - accuracy: 0.8800\n",
            "Epoch 495/500\n",
            "25/25 [==============================] - 0s 3ms/step - loss: 1.4429 - accuracy: 0.9200\n",
            "Epoch 496/500\n",
            "25/25 [==============================] - 0s 3ms/step - loss: 1.4417 - accuracy: 0.8800\n",
            "Epoch 497/500\n",
            "25/25 [==============================] - 0s 3ms/step - loss: 1.4415 - accuracy: 0.9200\n",
            "Epoch 498/500\n",
            "25/25 [==============================] - 0s 3ms/step - loss: 1.4376 - accuracy: 0.9200\n",
            "Epoch 499/500\n",
            "25/25 [==============================] - 0s 3ms/step - loss: 1.4423 - accuracy: 0.8800\n",
            "Epoch 500/500\n",
            "25/25 [==============================] - 0s 3ms/step - loss: 1.4383 - accuracy: 0.8400\n"
          ]
        },
        {
          "output_type": "execute_result",
          "data": {
            "text/plain": [
              "<keras.callbacks.History at 0x7f756c77ed60>"
            ]
          },
          "metadata": {},
          "execution_count": 38
        }
      ]
    },
    {
      "cell_type": "markdown",
      "source": [
        "Evaluate the model"
      ],
      "metadata": {
        "id": "Pvkyd_gPqOjL"
      }
    },
    {
      "cell_type": "code",
      "source": [
        "model.evaluate(x, y, batch_size=1)"
      ],
      "metadata": {
        "colab": {
          "base_uri": "https://localhost:8080/"
        },
        "id": "12QKHAPzpDHk",
        "outputId": "14e643c0-77d7-4518-997d-b5ecc446f997"
      },
      "execution_count": null,
      "outputs": [
        {
          "output_type": "stream",
          "name": "stdout",
          "text": [
            "25/25 [==============================] - 1s 2ms/step - loss: 1.4213 - accuracy: 0.9200\n"
          ]
        },
        {
          "output_type": "execute_result",
          "data": {
            "text/plain": [
              "[1.4212614297866821, 0.9200000166893005]"
            ]
          },
          "metadata": {},
          "execution_count": 39
        }
      ]
    },
    {
      "cell_type": "markdown",
      "source": [
        "Prediction on new data"
      ],
      "metadata": {
        "id": "m8tH1PaxsP-c"
      }
    },
    {
      "cell_type": "code",
      "source": [
        "new = 'F'\n",
        "\n",
        "# Extract the number for new letter\n",
        "new = char_to_int[new]\n",
        "# Reshape the data\n",
        "new = np.reshape(new, (1, len([new]),1))\n",
        "# Normalize the data\n",
        "new = new / len(alphabets)\n",
        "# Perform the prediction\n",
        "pred = model.predict(new, verbose=False)\n",
        "# Find the highest probability\n",
        "pred = np.argmax(pred)\n",
        "# Find the letter\n",
        "pred = int_to_char[pred]\n",
        "pred"
      ],
      "metadata": {
        "colab": {
          "base_uri": "https://localhost:8080/",
          "height": 35
        },
        "id": "Ld3lsy7bqTxP",
        "outputId": "45eaa415-dce6-45a3-923f-6c201a144787"
      },
      "execution_count": null,
      "outputs": [
        {
          "output_type": "execute_result",
          "data": {
            "text/plain": [
              "'G'"
            ],
            "application/vnd.google.colaboratory.intrinsic+json": {
              "type": "string"
            }
          },
          "metadata": {},
          "execution_count": 47
        }
      ]
    },
    {
      "cell_type": "code",
      "source": [
        "from keras.utils import plot_model"
      ],
      "metadata": {
        "id": "PW8axTOLsnxj"
      },
      "execution_count": null,
      "outputs": []
    },
    {
      "cell_type": "code",
      "source": [
        "plot_model(model, show_dtype=True, show_layer_activations=True,\n",
        "           show_layer_names=True, show_shapes=True)"
      ],
      "metadata": {
        "colab": {
          "base_uri": "https://localhost:8080/",
          "height": 404
        },
        "id": "QxvCOwcGwNyG",
        "outputId": "39ce95c2-e709-43e2-a4cc-84b3e297dffd"
      },
      "execution_count": null,
      "outputs": [
        {
          "output_type": "execute_result",
          "data": {
            "image/png": "[encoded data removed]",
            "text/plain": [
              "<IPython.core.display.Image object>"
            ]
          },
          "metadata": {},
          "execution_count": 50
        }
      ]
    },
    {
      "cell_type": "code",
      "source": [],
      "metadata": {
        "id": "G-Xcr8f3wPvr"
      },
      "execution_count": null,
      "outputs": []
    }
  ]
}